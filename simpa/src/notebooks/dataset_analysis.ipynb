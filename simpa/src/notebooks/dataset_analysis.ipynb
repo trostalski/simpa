{
 "cells": [
  {
   "cell_type": "code",
   "execution_count": 41,
   "metadata": {},
   "outputs": [
    {
     "name": "stdout",
     "output_type": "stream",
     "text": [
      "The autoreload extension is already loaded. To reload it, use:\n",
      "  %reload_ext autoreload\n"
     ]
    }
   ],
   "source": [
    "%load_ext autoreload\n",
    "%autoreload 2"
   ]
  },
  {
   "cell_type": "code",
   "execution_count": 42,
   "metadata": {},
   "outputs": [],
   "source": [
    "import os\n",
    "import sys\n",
    "\n",
    "sys.path.insert(0, os.path.abspath(\"..\"))\n"
   ]
  },
  {
   "cell_type": "code",
   "execution_count": 43,
   "metadata": {},
   "outputs": [],
   "source": [
    "from dotenv import load_dotenv\n",
    "import pandas as pd\n",
    "import numpy as np\n",
    "\n",
    "import sql_queries as sq\n",
    "\n",
    "# Database\n",
    "from db import PostgresDB\n",
    "from schemas import Proband\n",
    "from cohorts import Cohort\n",
    "\n",
    "# Clustering\n",
    "from sklearn.cluster import SpectralClustering\n",
    "from sklearn.cluster import AgglomerativeClustering\n",
    "from sklearn.cluster import KMeans\n",
    "from sklearn.cluster import DBSCAN\n",
    "from sklearn.cluster import AffinityPropagation\n",
    "\n",
    "# Plotting matrix\n",
    "from sklearn.manifold import MDS, TSNE\n",
    "from sklearn.decomposition import PCA\n",
    "\n",
    "# Plotting\n",
    "import seaborn as sns\n",
    "from matplotlib import pyplot as plt\n",
    "from plotting import plot_endpoints_for_clusters"
   ]
  },
  {
   "cell_type": "code",
   "execution_count": 44,
   "metadata": {},
   "outputs": [
    {
     "data": {
      "image/png": "[encoded data removed]",
      "text/plain": [
       "<Figure size 1000x100 with 1 Axes>"
      ]
     },
     "metadata": {},
     "output_type": "display_data"
    }
   ],
   "source": [
    "palette = sns.color_palette(\"bright\", 10)\n",
    "sns.palplot(palette)"
   ]
  },
  {
   "cell_type": "code",
   "execution_count": 45,
   "metadata": {},
   "outputs": [
    {
     "data": {
      "text/plain": [
       "True"
      ]
     },
     "execution_count": 45,
     "metadata": {},
     "output_type": "execute_result"
    }
   ],
   "source": [
    "load_dotenv()\n"
   ]
  },
  {
   "cell_type": "code",
   "execution_count": 46,
   "metadata": {},
   "outputs": [
    {
     "name": "stdout",
     "output_type": "stream",
     "text": [
      "Connected to database\n"
     ]
    }
   ],
   "source": [
    "db = PostgresDB(\n",
    "    db_name=os.getenv(\"DB_NAME\"),\n",
    "    host=os.getenv(\"DB_HOST\"),\n",
    "    port=os.getenv(\"DB_PORT\"),\n",
    "    user=os.getenv(\"DB_USER\"),\n",
    ")\n"
   ]
  },
  {
   "cell_type": "code",
   "execution_count": 47,
   "metadata": {},
   "outputs": [],
   "source": [
    "cohort = Cohort(db=db, name=\"test_cohort\")\n"
   ]
  },
  {
   "cell_type": "code",
   "execution_count": 48,
   "metadata": {},
   "outputs": [],
   "source": [
    "cohort.get_sepsis_cohort(limit=None, min_age=18, max_age=65, gender=\"F\")\n"
   ]
  },
  {
   "attachments": {},
   "cell_type": "markdown",
   "metadata": {},
   "source": [
    "### Age distribution\n"
   ]
  },
  {
   "cell_type": "code",
   "execution_count": 49,
   "metadata": {},
   "outputs": [],
   "source": [
    "ages = db.execute_query(\n",
    "    \"SELECT age FROM mimiciv_derived.age WHERE hadm_id = ANY(%s)\", (cohort.hadm_ids,)\n",
    ")\n",
    "ages = [i[0] for i in ages]\n"
   ]
  },
  {
   "cell_type": "code",
   "execution_count": 50,
   "metadata": {},
   "outputs": [
    {
     "name": "stderr",
     "output_type": "stream",
     "text": [
      "/var/folders/0x/6dppp0gd4kb1c3snslkflksr0000gn/T/ipykernel_92789/860233856.py:2: UserWarning: \n",
      "\n",
      "`distplot` is a deprecated function and will be removed in seaborn v0.14.0.\n",
      "\n",
      "Please adapt your code to use either `displot` (a figure-level function with\n",
      "similar flexibility) or `histplot` (an axes-level function for histograms).\n",
      "\n",
      "For a guide to updating your code to use the new functions, please see\n",
      "https://gist.github.com/mwaskom/de44147ed2974457ad6372750bbe5751\n",
      "\n",
      "  sns.distplot(ages, kde=False, bins=47)\n"
     ]
    },
    {
     "data": {
      "image/png": "[encoded data removed]",
      "text/plain": [
       "<Figure size 640x480 with 1 Axes>"
      ]
     },
     "metadata": {},
     "output_type": "display_data"
    }
   ],
   "source": [
    "# plot age distribution\n",
    "sns.distplot(ages, kde=False, bins=47)\n",
    "plt.title(\"Age distribution\")\n",
    "plt.xlabel(\"Age\")\n",
    "plt.ylabel(\"Count\")\n",
    "plt.show()\n"
   ]
  },
  {
   "attachments": {},
   "cell_type": "markdown",
   "metadata": {},
   "source": [
    "### Labevents\n"
   ]
  },
  {
   "cell_type": "code",
   "execution_count": 51,
   "metadata": {},
   "outputs": [],
   "source": [
    "labevents = db.execute_query(\n",
    "    \"\"\"\n",
    "SELECT \n",
    "    le.itemid, le.subject_id, le.hadm_id, le.valuenum, le.valueuom,\n",
    "    ls.mean_value, ls.std_dev, li.label\n",
    "FROM \n",
    "    mimiciv_hosp.labevents le, labevent_statistics ls, mimiciv_hosp.d_labitems li\n",
    "WHERE \n",
    "    le.hadm_id = ANY( %s ) \n",
    "    AND le.itemid = ls.itemid\n",
    "    AND le.itemid = li.itemid\n",
    "\"\"\",\n",
    "    (cohort.hadm_ids,),\n",
    ")\n"
   ]
  },
  {
   "cell_type": "code",
   "execution_count": 52,
   "metadata": {},
   "outputs": [],
   "source": [
    "columns = [\n",
    "    \"itemid\",\n",
    "    \"subject_id\",\n",
    "    \"hadm_id\",\n",
    "    \"valuenum\",\n",
    "    \"valueuom\",\n",
    "    \"mean_value\",\n",
    "    \"std_dev\",\n",
    "    \"label\",\n",
    "]\n",
    "labevents_df = pd.DataFrame(labevents, columns=columns)\n"
   ]
  },
  {
   "cell_type": "code",
   "execution_count": 56,
   "metadata": {},
   "outputs": [
    {
     "data": {
      "text/html": [
       "<div>\n",
       "<style scoped>\n",
       "    .dataframe tbody tr th:only-of-type {\n",
       "        vertical-align: middle;\n",
       "    }\n",
       "\n",
       "    .dataframe tbody tr th {\n",
       "        vertical-align: top;\n",
       "    }\n",
       "\n",
       "    .dataframe thead th {\n",
       "        text-align: right;\n",
       "    }\n",
       "</style>\n",
       "<table border=\"1\" class=\"dataframe\">\n",
       "  <thead>\n",
       "    <tr style=\"text-align: right;\">\n",
       "      <th></th>\n",
       "      <th>itemid</th>\n",
       "      <th>subject_id</th>\n",
       "      <th>hadm_id</th>\n",
       "      <th>valuenum</th>\n",
       "      <th>valueuom</th>\n",
       "      <th>mean_value</th>\n",
       "      <th>std_dev</th>\n",
       "      <th>label</th>\n",
       "    </tr>\n",
       "  </thead>\n",
       "  <tbody>\n",
       "    <tr>\n",
       "      <th>0</th>\n",
       "      <td>50802</td>\n",
       "      <td>10002013</td>\n",
       "      <td>23581541</td>\n",
       "      <td>0.00</td>\n",
       "      <td>mEq/L</td>\n",
       "      <td>-0.364103</td>\n",
       "      <td>6.366767</td>\n",
       "      <td>Base Excess</td>\n",
       "    </tr>\n",
       "    <tr>\n",
       "      <th>1</th>\n",
       "      <td>50804</td>\n",
       "      <td>10002013</td>\n",
       "      <td>23581541</td>\n",
       "      <td>27.00</td>\n",
       "      <td>mEq/L</td>\n",
       "      <td>25.869978</td>\n",
       "      <td>6.354654</td>\n",
       "      <td>Calculated Total CO2</td>\n",
       "    </tr>\n",
       "    <tr>\n",
       "      <th>2</th>\n",
       "      <td>50806</td>\n",
       "      <td>10002013</td>\n",
       "      <td>23581541</td>\n",
       "      <td>101.00</td>\n",
       "      <td>mEq/L</td>\n",
       "      <td>104.102550</td>\n",
       "      <td>6.216901</td>\n",
       "      <td>Chloride, Whole Blood</td>\n",
       "    </tr>\n",
       "    <tr>\n",
       "      <th>3</th>\n",
       "      <td>50808</td>\n",
       "      <td>10002013</td>\n",
       "      <td>23581541</td>\n",
       "      <td>1.16</td>\n",
       "      <td>mmol/L</td>\n",
       "      <td>1.122398</td>\n",
       "      <td>0.383257</td>\n",
       "      <td>Free Calcium</td>\n",
       "    </tr>\n",
       "    <tr>\n",
       "      <th>4</th>\n",
       "      <td>50809</td>\n",
       "      <td>10002013</td>\n",
       "      <td>23581541</td>\n",
       "      <td>332.00</td>\n",
       "      <td>mg/dL</td>\n",
       "      <td>147.531995</td>\n",
       "      <td>2785.936393</td>\n",
       "      <td>Glucose</td>\n",
       "    </tr>\n",
       "  </tbody>\n",
       "</table>\n",
       "</div>"
      ],
      "text/plain": [
       "   itemid  subject_id   hadm_id  valuenum valueuom  mean_value      std_dev  \\\n",
       "0   50802    10002013  23581541      0.00    mEq/L   -0.364103     6.366767   \n",
       "1   50804    10002013  23581541     27.00    mEq/L   25.869978     6.354654   \n",
       "2   50806    10002013  23581541    101.00    mEq/L  104.102550     6.216901   \n",
       "3   50808    10002013  23581541      1.16   mmol/L    1.122398     0.383257   \n",
       "4   50809    10002013  23581541    332.00    mg/dL  147.531995  2785.936393   \n",
       "\n",
       "                   label  \n",
       "0            Base Excess  \n",
       "1   Calculated Total CO2  \n",
       "2  Chloride, Whole Blood  \n",
       "3           Free Calcium  \n",
       "4                Glucose  "
      ]
     },
     "execution_count": 56,
     "metadata": {},
     "output_type": "execute_result"
    }
   ],
   "source": [
    "labevents_df.head()"
   ]
  },
  {
   "cell_type": "code",
   "execution_count": 53,
   "metadata": {},
   "outputs": [
    {
     "name": "stdout",
     "output_type": "stream",
     "text": [
      "Total count of labevents: 3232039\n",
      "Total count of unique labevent measurements: 552\n"
     ]
    }
   ],
   "source": [
    "print(f\"Total count of labevents: {len(labevents_df)}\")\n",
    "print(f\"Total count of unique labevent measurements: {len(labevents_df['itemid'].unique())}\")"
   ]
  },
  {
   "cell_type": "code",
   "execution_count": 54,
   "metadata": {},
   "outputs": [
    {
     "data": {
      "image/png": "[encoded data removed]",
      "text/plain": [
       "<Figure size 640x480 with 1 Axes>"
      ]
     },
     "metadata": {},
     "output_type": "display_data"
    }
   ],
   "source": [
    "# plot count per labels\n",
    "sns.countplot(\n",
    "    x=\"label\", data=labevents_df, order=labevents_df[\"label\"].value_counts().index\n",
    ")\n",
    "plt.title(\"Count per label\")\n",
    "plt.tick_params(axis=\"x\", which=\"both\", bottom=False, top=False, labelbottom=False)\n",
    "plt.xlabel(\"Count\")\n",
    "plt.ylabel(\"Label\")\n",
    "plt.show()\n"
   ]
  },
  {
   "cell_type": "code",
   "execution_count": 55,
   "metadata": {},
   "outputs": [
    {
     "name": "stderr",
     "output_type": "stream",
     "text": [
      "No artists with labels found to put in legend.  Note that artists whose label start with an underscore are ignored when legend() is called with no argument.\n"
     ]
    },
    {
     "data": {
      "image/png": "[encoded data removed]",
      "text/plain": [
       "<Figure size 640x480 with 1 Axes>"
      ]
     },
     "metadata": {},
     "output_type": "display_data"
    }
   ],
   "source": [
    "# plot the 50 most common labevents by label\n",
    "sns.countplot(\n",
    "    x=\"label\",\n",
    "    data=labevents_df,\n",
    "    order=labevents_df[\"label\"].value_counts().iloc[:50].index,\n",
    ")\n",
    "plt.title(\"Count per label\")\n",
    "plt.tick_params(axis=\"x\", which=\"both\", bottom=False, top=False, labelbottom=False)\n",
    "plt.xlabel(\"Count\")\n",
    "plt.ylabel(\"Label\")\n",
    "plt.legend(loc=\"upper right\")\n",
    "plt.show()"
   ]
  },
  {
   "cell_type": "code",
   "execution_count": 64,
   "metadata": {},
   "outputs": [
    {
     "data": {
      "text/plain": [
       "Glucose                            117407\n",
       "Sodium                              99213\n",
       "Potassium                           98932\n",
       "Chloride                            97496\n",
       "Bicarbonate                         93617\n",
       "Creatinine                          93487\n",
       "Anion Gap                           93314\n",
       "Urea Nitrogen                       93218\n",
       "Hemoglobin                          92733\n",
       "Hematocrit                          92593\n",
       "Magnesium                           89759\n",
       "Platelet Count                      87617\n",
       "Phosphate                           85800\n",
       "White Blood Cells                   85494\n",
       "Calcium, Total                      85386\n",
       "MCHC                                85320\n",
       "Red Blood Cells                     85312\n",
       "MCH                                 85311\n",
       "MCV                                 85311\n",
       "RDW                                 85311\n",
       "pH                                  68597\n",
       "PTT                                 56481\n",
       "pO2                                 54694\n",
       "Base Excess                         54688\n",
       "Calculated Total CO2                54687\n",
       "pCO2                                54675\n",
       "INR(PT)                             53473\n",
       "PT                                  53472\n",
       "RDW-SD                              39239\n",
       "H                                   38464\n",
       "L                                   38463\n",
       "I                                   38462\n",
       "Lactate                             35433\n",
       "Bilirubin, Total                    32761\n",
       "Alanine Aminotransferase (ALT)      32673\n",
       "Asparate Aminotransferase (AST)     32650\n",
       "Alkaline Phosphatase                32092\n",
       "Free Calcium                        30344\n",
       "Lactate Dehydrogenase (LD)          17502\n",
       "Albumin                             16456\n",
       "Lymphocytes                         16285\n",
       "Monocytes                           16151\n",
       "Temperature                         15325\n",
       "Eosinophils                         15107\n",
       "Basophils                           14770\n",
       "Neutrophils                         14715\n",
       "Potassium, Whole Blood              14280\n",
       "Oxygen Saturation                   13910\n",
       "Fibrinogen, Functional              11086\n",
       "Oxygen                              10294\n",
       "Name: label, dtype: int64"
      ]
     },
     "execution_count": 64,
     "metadata": {},
     "output_type": "execute_result"
    }
   ],
   "source": [
    "labevents_df[\"label\"].value_counts().iloc[:50]"
   ]
  },
  {
   "attachments": {},
   "cell_type": "markdown",
   "metadata": {},
   "source": [
    "### Diagnoses"
   ]
  },
  {
   "cell_type": "code",
   "execution_count": 65,
   "metadata": {},
   "outputs": [],
   "source": [
    "diagnoses = db.execute_query(\n",
    "    \"\"\"\n",
    "SELECT * FROM mimiciv_hosp.diagnoses_icd WHERE hadm_id = ANY( %s );\n",
    "\"\"\",\n",
    "    (cohort.hadm_ids,),\n",
    ")\n"
   ]
  },
  {
   "cell_type": "code",
   "execution_count": 66,
   "metadata": {},
   "outputs": [
    {
     "data": {
      "text/plain": [
       "[(10002013, 23581541, 1, '41401  ', 9),\n",
       " (10002013, 23581541, 2, '42832  ', 9),\n",
       " (10002013, 23581541, 3, '5180   ', 9),\n",
       " (10002013, 23581541, 4, '4280   ', 9),\n",
       " (10002013, 23581541, 5, '4139   ', 9),\n",
       " (10002013, 23581541, 6, '4400   ', 9),\n",
       " (10002013, 23581541, 7, '4019   ', 9),\n",
       " (10002013, 23581541, 8, '34690  ', 9),\n",
       " (10002013, 23581541, 9, '71590  ', 9),\n",
       " (10002013, 23581541, 10, '496    ', 9)]"
      ]
     },
     "execution_count": 66,
     "metadata": {},
     "output_type": "execute_result"
    }
   ],
   "source": [
    "diagnoses[:10]"
   ]
  }
 ],
 "metadata": {
  "kernelspec": {
   "display_name": "venv",
   "language": "python",
   "name": "python3"
  },
  "language_info": {
   "codemirror_mode": {
    "name": "ipython",
    "version": 3
   },
   "file_extension": ".py",
   "mimetype": "text/x-python",
   "name": "python",
   "nbconvert_exporter": "python",
   "pygments_lexer": "ipython3",
   "version": "3.9.6"
  },
  "orig_nbformat": 4
 },
 "nbformat": 4,
 "nbformat_minor": 2
}
