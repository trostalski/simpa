{
 "cells": [
  {
   "cell_type": "code",
   "execution_count": 15,
   "metadata": {},
   "outputs": [
    {
     "name": "stdout",
     "output_type": "stream",
     "text": [
      "The autoreload extension is already loaded. To reload it, use:\n",
      "  %reload_ext autoreload\n"
     ]
    }
   ],
   "source": [
    "%load_ext autoreload\n",
    "%autoreload 2"
   ]
  },
  {
   "cell_type": "code",
   "execution_count": 16,
   "metadata": {},
   "outputs": [],
   "source": [
    "import os\n",
    "import sys\n",
    "sys.path.insert(0, os.path.abspath('..'))\n",
    "from psycopg2 import connect\n",
    "from dotenv import load_dotenv\n",
    "from labevents import LabEventDistributions, get_valid_values_from_labevents_for_itemid\n",
    "import statistics\n",
    "from db import PostgresDB"
   ]
  },
  {
   "cell_type": "code",
   "execution_count": 4,
   "metadata": {},
   "outputs": [],
   "source": [
    "def get_mean_std_for_item_id(self, item_id: int):\n",
    "    if item_id in self._mean_std_cache:\n",
    "        return None, None\n",
    "    values = get_valid_values_from_labevents_for_itemid(\n",
    "        labevents=self.labevents, item_id=item_id\n",
    "    )\n",
    "    units = [o.valueuom for o in self.labevents if o.item_id == item_id]\n",
    "    if not len(set(units)) == 1:\n",
    "        print(f\"Multiple units found for item_id: {item_id}\")\n",
    "    if len(values) > 1:\n",
    "        mean = statistics.mean(values)\n",
    "        std = max(statistics.stdev(values), 0.0001)\n",
    "        self._mean_std_cache[item_id] = mean, std\n",
    "        return mean, std\n",
    "    else:\n",
    "        return None, None"
   ]
  },
  {
   "cell_type": "code",
   "execution_count": 17,
   "metadata": {},
   "outputs": [
    {
     "name": "stdout",
     "output_type": "stream",
     "text": [
      "Connected to database\n"
     ]
    }
   ],
   "source": [
    "db = PostgresDB(\n",
    "    db_name=os.getenv(\"DB_NAME\"),\n",
    "    host=os.getenv(\"DB_HOST\"),\n",
    "    port=os.getenv(\"BD_PORT\"),\n",
    "    user=os.getenv(\"DB_USER\"),\n",
    ")\n"
   ]
  },
  {
   "cell_type": "code",
   "execution_count": 21,
   "metadata": {},
   "outputs": [
    {
     "data": {
      "text/plain": [
       "(14.196377976228614, 3.4285864990839574)"
      ]
     },
     "execution_count": 21,
     "metadata": {},
     "output_type": "execute_result"
    }
   ],
   "source": [
    "db.get_mean_std_for_itemid(50868)"
   ]
  }
 ],
 "metadata": {
  "kernelspec": {
   "display_name": "venv",
   "language": "python",
   "name": "python3"
  },
  "language_info": {
   "codemirror_mode": {
    "name": "ipython",
    "version": 3
   },
   "file_extension": ".py",
   "mimetype": "text/x-python",
   "name": "python",
   "nbconvert_exporter": "python",
   "pygments_lexer": "ipython3",
   "version": "3.9.6"
  },
  "orig_nbformat": 4,
  "vscode": {
   "interpreter": {
    "hash": "f41e28c236def3ad43b88670ea83423f728d1db51185965b3def1bfb9c026208"
   }
  }
 },
 "nbformat": 4,
 "nbformat_minor": 2
}
