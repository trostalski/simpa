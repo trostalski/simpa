{
 "cells": [
  {
   "cell_type": "code",
   "execution_count": 9,
   "metadata": {},
   "outputs": [],
   "source": [
    "%load_ext autoreload\n",
    "%autoreload 2"
   ]
  },
  {
   "cell_type": "code",
   "execution_count": 10,
   "metadata": {},
   "outputs": [],
   "source": [
    "import os\n",
    "import sys\n",
    "\n",
    "sys.path.insert(0, os.path.abspath(\"..\"))\n",
    "from dotenv import load_dotenv\n",
    "import seaborn as sns\n",
    "import pandas as pd\n",
    "import numpy as np\n",
    "\n",
    "from db import PostgresDB\n",
    "from schemas import Proband\n",
    "from cohorts import Cohort, EncounterComparator"
   ]
  },
  {
   "cell_type": "code",
   "execution_count": 11,
   "metadata": {},
   "outputs": [
    {
     "data": {
      "text/plain": [
       "True"
      ]
     },
     "execution_count": 11,
     "metadata": {},
     "output_type": "execute_result"
    }
   ],
   "source": [
    "load_dotenv()"
   ]
  },
  {
   "cell_type": "code",
   "execution_count": 21,
   "metadata": {},
   "outputs": [
    {
     "name": "stdout",
     "output_type": "stream",
     "text": [
      "Connected to database\n"
     ]
    }
   ],
   "source": [
    "db = PostgresDB(\n",
    "    db_name=os.getenv(\"DB_NAME\"),\n",
    "    host=os.getenv(\"DB_HOST\"),\n",
    "    port=os.getenv(\"DB_PORT\"),\n",
    "    user=os.getenv(\"DB_USER\"),\n",
    ")\n"
   ]
  },
  {
   "cell_type": "code",
   "execution_count": 22,
   "metadata": {},
   "outputs": [],
   "source": [
    "hadm_ids = [26913865, 23581541, 20321825]\n",
    "vs = db.get_vitalsigns(hadm_ids)"
   ]
  },
  {
   "cell_type": "code",
   "execution_count": 23,
   "metadata": {},
   "outputs": [
    {
     "name": "stdout",
     "output_type": "stream",
     "text": [
      "name:  heart_rate\n",
      "v = 98.12244897959184, w = 98.12244897959184, r = 0.4827302915868006\n",
      "name:  heart_rate\n",
      "v = 98.12244897959184, w = 94.21428571428571, r = 0.36904272344111577\n",
      "name:  heart_rate\n",
      "v = 98.12244897959184, w = 73.63636363636364, r = 0.0040549690763531\n",
      "name:  sbp_ni\n",
      "v = 100.0, w = 100.0, r = 0.6245632720164884\n",
      "name:  sbp_ni\n",
      "v = 100.0, w = 110.5, r = 0.26148641308393067\n",
      "name:  sbp_ni\n",
      "v = 100.0, w = 142.45454545454547, r = 0.0076888758391758915\n",
      "name:  dbp_ni\n",
      "v = 51.97872340425532, w = 51.97872340425532, r = 0.588936496319711\n",
      "name:  dbp_ni\n",
      "v = 51.97872340425532, w = 64.5, r = 0.12878522066680323\n",
      "name:  dbp_ni\n",
      "v = 51.97872340425532, w = 83.27272727272727, r = 0.01933252852345991\n",
      "name:  mbp_ni\n",
      "v = 63.12765957446808, w = 63.12765957446808, r = 0.6643751983426177\n",
      "name:  mbp_ni\n",
      "v = 63.12765957446808, w = 75.4, r = 0.16159902276021504\n",
      "name:  mbp_ni\n",
      "v = 63.12765957446808, w = 97.54545454545455, r = 0.009984522106524885\n",
      "name:  resp_rate\n",
      "v = 23.57, w = 23.57, r = 0.44449337869180794\n",
      "name:  resp_rate\n",
      "v = 23.57, w = 15.178571428571429, r = 0.02151785930581785\n",
      "name:  resp_rate\n",
      "v = 23.57, w = 20.681818181818183, r = 0.19458232601996575\n",
      "name:  temperature\n",
      "v = 36.92076923076923, w = 36.92076923076923, r = 0.042795923526284585\n",
      "name:  temperature\n",
      "v = 36.92076923076923, w = 37.20444444444444, r = 0.08645646232233638\n",
      "name:  temperature\n",
      "v = 36.92076923076923, w = 36.74333333333333, r = 0.11224207144100765\n",
      "name:  spo2\n",
      "v = 98.14634146341463, w = 98.14634146341463, r = 0.321554054578308\n",
      "name:  spo2\n",
      "v = 98.14634146341463, w = 96.73076923076923, r = 0.11839461778051352\n",
      "name:  spo2\n",
      "v = 98.14634146341463, w = 98.9090909090909, r = 0.3577454599985868\n",
      "name:  glucose\n",
      "v = 80.0, w = 80.0, r = 0.7286686045939663\n",
      "name:  glucose\n",
      "v = 80.0, w = 149.4090909090909, r = 0.0953409772719653\n",
      "name:  glucose\n",
      "v = 80.0, w = 109.5, r = 0.3048495541076979\n",
      "name:  heart_rate\n",
      "v = 94.21428571428571, w = 98.12244897959184, r = 0.36904272344111577\n",
      "name:  heart_rate\n",
      "v = 94.21428571428571, w = 94.21428571428571, r = 0.3362589248741654\n",
      "name:  heart_rate\n",
      "v = 94.21428571428571, w = 73.63636363636364, r = 0.03151205016563075\n",
      "name:  sbp_ni\n",
      "v = 110.5, w = 100.0, r = 0.26148641308393067\n",
      "name:  sbp_ni\n",
      "v = 110.5, w = 110.5, r = 0.3211106043677576\n",
      "name:  sbp_ni\n",
      "v = 110.5, w = 142.45454545454547, r = 0.07471146473966238\n",
      "name:  dbp_ni\n",
      "v = 64.5, w = 51.97872340425532, r = 0.12878522066680323\n",
      "name:  dbp_ni\n",
      "v = 64.5, w = 64.5, r = 0.023151893239447663\n",
      "name:  dbp_ni\n",
      "v = 64.5, w = 83.27272727272727, r = 0.2034997098334923\n",
      "name:  mbp_ni\n",
      "v = 75.4, w = 63.12765957446808, r = 0.16159902276021504\n",
      "name:  mbp_ni\n",
      "v = 75.4, w = 75.4, r = 0.15211562832088144\n",
      "name:  mbp_ni\n",
      "v = 75.4, w = 97.54545454545455, r = 0.1479408807247353\n",
      "name:  resp_rate\n",
      "v = 15.178571428571429, w = 23.57, r = 0.02151785930581785\n",
      "name:  resp_rate\n",
      "v = 15.178571428571429, w = 15.178571428571429, r = 0.5998453372391597\n",
      "name:  resp_rate\n",
      "v = 15.178571428571429, w = 20.681818181818183, r = 0.09704462768056656\n",
      "name:  temperature\n",
      "v = 37.20444444444444, w = 36.92076923076923, r = 0.08645646232233638\n",
      "name:  temperature\n",
      "v = 37.20444444444444, w = 37.20444444444444, r = 0.27270147903837394\n",
      "name:  temperature\n",
      "v = 37.20444444444444, w = 36.74333333333333, r = 0.009795094304867804\n",
      "name:  spo2\n",
      "v = 96.73076923076923, w = 98.14634146341463, r = 0.11839461778051352\n",
      "name:  spo2\n",
      "v = 96.73076923076923, w = 96.73076923076923, r = 0.006558409737683957\n",
      "name:  spo2\n",
      "v = 96.73076923076923, w = 98.9090909090909, r = 0.15875791026681776\n",
      "name:  glucose\n",
      "v = 149.4090909090909, w = 80.0, r = 0.0953409772719653\n",
      "name:  glucose\n",
      "v = 149.4090909090909, w = 149.4090909090909, r = 0.015213228643455645\n",
      "name:  glucose\n",
      "v = 149.4090909090909, w = 109.5, r = 0.1186215845160158\n",
      "name:  heart_rate\n",
      "v = 73.63636363636364, w = 98.12244897959184, r = 0.0040549690763531\n",
      "name:  heart_rate\n",
      "v = 73.63636363636364, w = 94.21428571428571, r = 0.03151205016563075\n",
      "name:  heart_rate\n",
      "v = 73.63636363636364, w = 73.63636363636364, r = 0.5071277942703006\n",
      "name:  sbp_ni\n",
      "v = 142.45454545454547, w = 100.0, r = 0.0076888758391758915\n",
      "name:  sbp_ni\n",
      "v = 142.45454545454547, w = 110.5, r = 0.07471146473966238\n",
      "name:  sbp_ni\n",
      "v = 142.45454545454547, w = 142.45454545454547, r = 0.6939467125828116\n",
      "name:  dbp_ni\n",
      "v = 83.27272727272727, w = 51.97872340425532, r = 0.01933252852345991\n",
      "name:  dbp_ni\n",
      "v = 83.27272727272727, w = 64.5, r = 0.2034997098334923\n",
      "name:  dbp_ni\n",
      "v = 83.27272727272727, w = 83.27272727272727, r = 0.7539111916481782\n",
      "name:  mbp_ni\n",
      "v = 97.54545454545455, w = 63.12765957446808, r = 0.009984522106524885\n",
      "name:  mbp_ni\n",
      "v = 97.54545454545455, w = 75.4, r = 0.1479408807247353\n",
      "name:  mbp_ni\n",
      "v = 97.54545454545455, w = 97.54545454545455, r = 0.769667058665072\n",
      "name:  resp_rate\n",
      "v = 20.681818181818183, w = 23.57, r = 0.19458232601996575\n",
      "name:  resp_rate\n",
      "v = 20.681818181818183, w = 15.178571428571429, r = 0.09704462768056656\n",
      "name:  resp_rate\n",
      "v = 20.681818181818183, w = 20.681818181818183, r = 0.07731110385724715\n",
      "name:  temperature\n",
      "v = 36.74333333333333, w = 36.92076923076923, r = 0.11224207144100765\n",
      "name:  temperature\n",
      "v = 36.74333333333333, w = 37.20444444444444, r = 0.009795094304867804\n",
      "name:  temperature\n",
      "v = 36.74333333333333, w = 36.74333333333333, r = 0.23989992710168973\n",
      "name:  spo2\n",
      "v = 98.9090909090909, w = 98.14634146341463, r = 0.3577454599985868\n",
      "name:  spo2\n",
      "v = 98.9090909090909, w = 96.73076923076923, r = 0.15875791026681776\n",
      "name:  spo2\n",
      "v = 98.9090909090909, w = 98.9090909090909, r = 0.47938876137700714\n",
      "name:  glucose\n",
      "v = 109.5, w = 80.0, r = 0.3048495541076979\n",
      "name:  glucose\n",
      "v = 109.5, w = 149.4090909090909, r = 0.1186215845160158\n",
      "name:  glucose\n",
      "v = 109.5, w = 109.5, r = 0.4676210837750687\n"
     ]
    }
   ],
   "source": [
    "from vitalsigns import VitalsignComparator\n",
    "\n",
    "comp = VitalsignComparator(db=db)\n",
    "res = []\n",
    "for v in vs:\n",
    "    for w in vs:\n",
    "        r = comp.compare(v, w, scale_by_distribution=True)\n",
    "        if r is not None:\n",
    "            print(\"name: \", v.name)\n",
    "            print(f\"v = {v.value}, w = {w.value}, r = {r}\")\n",
    "        res.append(r)\n"
   ]
  },
  {
   "cell_type": "code",
   "execution_count": 22,
   "metadata": {},
   "outputs": [
    {
     "name": "stdout",
     "output_type": "stream",
     "text": [
      "[0.5466221376345193, None, None, None, None, None, None, 0.5800010419150271, None, None, None, None, None, None, 0.5978167725398986, None, None, None, None, None, None, None, 0.9976858259751062, None, None, None, None, None, None, 0.1764412228521124, None, None, None, None, None, None, 0.02167300109391548, None, None, None, None, None, None, None, 0.09229540520042878, None, None, None, None, None, None, 0.12149321469222603, None, None, None, None, None, None, 0.20104792439954447, None, None, None, None, None, None, None, 0.999435482432206, None, None, None, None, None, None, 0.12446617487676039, None, None, None, None, None, None, 0.5026881084127697, None, None, None, None, None, None, None, 0.9958437151658353, None, None, None, None, None, None, 0.9958443322247845, None, None, None, None, None, None, 0.9954292889094786, None, None, None, None, None, None, None, 1.0, None, None, None, None, None, None, 1.0, None, None, None, None, None, None, 1.0, None, None, None, None, None, None, None, 0.9999994424891093, None, None, None, None, None, None, 7.770459832185178e-14, None, None, None, None, None, None, 1.9631656683025667e-11, 0.5800010419150271, None, None, None, None, None, None, 0.8136778776677365, None, None, None, None, None, None, 0.8222637353030593, None, None, None, None, None, None, None, 0.1764412228521124, None, None, None, None, None, None, 0.9869846941339261, None, None, None, None, None, None, 0.12120481141323391, None, None, None, None, None, None, None, 0.12149321469222603, None, None, None, None, None, None, 0.4915818609526106, None, None, None, None, None, None, 0.5524302920114953, None, None, None, None, None, None, None, 0.12446617487676039, None, None, None, None, None, None, 0.9999297143489072, None, None, None, None, None, None, 0.24753089518586435, None, None, None, None, None, None, None, 0.9958443322247845, None, None, None, None, None, None, 0.9964365133336945, None, None, None, None, None, None, 0.9954299674252947, None, None, None, None, None, None, None, 1.0, None, None, None, None, None, None, 1.0, None, None, None, None, None, None, 1.0, None, None, None, None, None, None, None, 7.770459832185178e-14, None, None, None, None, None, None, 1.0, None, None, None, None, None, None, 0.9998586052614963, 0.5978167725398986, None, None, None, None, None, None, 0.8222637353030593, None, None, None, None, None, None, 0.9977978017577467, None, None, None, None, None, None, None, 0.02167300109391548, None, None, None, None, None, None, 0.12120481141323391, None, None, None, None, None, None, 0.8987521943228576, None, None, None, None, None, None, None, 0.20104792439954447, None, None, None, None, None, None, 0.5524302920114953, None, None, None, None, None, None, 0.9609659959836667, None, None, None, None, None, None, None, 0.5026881084127697, None, None, None, None, None, None, 0.24753089518586435, None, None, None, None, None, None, 0.9997161033006748, None, None, None, None, None, None, None, 0.9954292889094786, None, None, None, None, None, None, 0.9954299674252947, None, None, None, None, None, None, 0.995428813774198, None, None, None, None, None, None, None, 1.0, None, None, None, None, None, None, 1.0, None, None, None, None, None, None, 1.0, None, None, None, None, None, None, None, 1.9631656683025667e-11, None, None, None, None, None, None, 0.9998586052614963, None, None, None, None, None, None, 0.999858600263025]\n"
     ]
    }
   ],
   "source": [
    "print(res)"
   ]
  }
 ],
 "metadata": {
  "kernelspec": {
   "display_name": "venv",
   "language": "python",
   "name": "python3"
  },
  "language_info": {
   "codemirror_mode": {
    "name": "ipython",
    "version": 3
   },
   "file_extension": ".py",
   "mimetype": "text/x-python",
   "name": "python",
   "nbconvert_exporter": "python",
   "pygments_lexer": "ipython3",
   "version": "3.9.6"
  },
  "orig_nbformat": 4
 },
 "nbformat": 4,
 "nbformat_minor": 2
}
