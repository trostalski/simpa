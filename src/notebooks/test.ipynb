{
 "cells": [
  {
   "cell_type": "code",
   "execution_count": 1,
   "metadata": {},
   "outputs": [],
   "source": [
    "%load_ext autoreload\n",
    "%autoreload 2"
   ]
  },
  {
   "cell_type": "code",
   "execution_count": 2,
   "metadata": {},
   "outputs": [],
   "source": [
    "import os\n",
    "import sys\n",
    "\n",
    "sys.path.insert(0, os.path.abspath(\"..\"))\n",
    "import psycopg2\n",
    "import pandas as pd\n",
    "from dotenv import load_dotenv\n",
    "from typing import Optional\n",
    "from pydantic import BaseModel\n",
    "from datetime import datetime\n",
    "\n",
    "from db import PostgresDB\n"
   ]
  },
  {
   "cell_type": "code",
   "execution_count": 3,
   "metadata": {},
   "outputs": [
    {
     "data": {
      "text/plain": [
       "True"
      ]
     },
     "execution_count": 3,
     "metadata": {},
     "output_type": "execute_result"
    }
   ],
   "source": [
    "load_dotenv()\n"
   ]
  },
  {
   "cell_type": "code",
   "execution_count": 4,
   "metadata": {},
   "outputs": [
    {
     "name": "stdout",
     "output_type": "stream",
     "text": [
      "Connected to database\n"
     ]
    }
   ],
   "source": [
    "db = PostgresDB(\n",
    "    db_name=os.getenv(\"DB_NAME\"),\n",
    "    host=os.getenv(\"DB_HOST\"),\n",
    "    port=os.getenv(\"DB_PORT\"),\n",
    "    user=os.getenv(\"DB_USER\"),\n",
    ")\n"
   ]
  },
  {
   "cell_type": "code",
   "execution_count": 5,
   "metadata": {},
   "outputs": [],
   "source": [
    "ICU_SCHEMA = \"mimiciv_icu\"\n",
    "HOSP_SCHEMA = \"mimiciv_hosp\"\n",
    "ED_SCHEMA = \"mimiciv_ed\"\n"
   ]
  },
  {
   "cell_type": "code",
   "execution_count": 6,
   "metadata": {},
   "outputs": [],
   "source": [
    "def create_sepsis_cohort(db: PostgresDB):\n",
    "    probands = []\n",
    "    query = \"\"\"\n",
    "        SELECT sep.subject_id, sep.stay_id, sta.hadm_id\n",
    "        FROM mimiciv_derived.sepsis3 sep, mimiciv_icu.icustays sta\n",
    "        WHERE sep.stay_id = sta.stay_id limit 100;\n",
    "    \"\"\"\n",
    "    db_result = db.execute_query(query)\n",
    "    for subject_id, stay_id, hadm_id in db_result:\n",
    "        probands.append(\n",
    "            Proband(subject_id=subject_id, stay_id=stay_id, hadm_id=hadm_id)\n",
    "        )\n",
    "    cohort = Cohort(participants=probands)\n",
    "    return cohort\n"
   ]
  },
  {
   "cell_type": "code",
   "execution_count": 51,
   "metadata": {},
   "outputs": [],
   "source": [
    "from cohorts import Cohort\n",
    "from labevents import LabEvent, LabEventComparator, LabEventDistributions\n",
    "\n",
    "query = \"\"\"\n",
    "    SELECT sep.subject_id, sta.hadm_id\n",
    "    FROM mimiciv_derived.sepsis3 sep, mimiciv_icu.icustays sta\n",
    "    WHERE sep.stay_id = sta.stay_id limit 100;\n",
    "\"\"\"\n",
    "\n",
    "query_b = \"\"\"\n",
    "    SELECT sep.subject_id, sta.hadm_id\n",
    "    FROM mimiciv_derived.sepsis3 sep, mimiciv_icu.icustays sta\n",
    "    WHERE sep.stay_id = sta.stay_id limit 100;\n",
    "\"\"\"\n",
    "\n",
    "cohort = Cohort.from_query(query, db)\n"
   ]
  },
  {
   "cell_type": "code",
   "execution_count": 52,
   "metadata": {},
   "outputs": [],
   "source": [
    "cohort.initialize_data()\n"
   ]
  },
  {
   "cell_type": "code",
   "execution_count": 9,
   "metadata": {},
   "outputs": [
    {
     "data": {
      "text/plain": [
       "LabEvent(labevent_id=279722, item_id=50812, subject_id=10023771, hadm_id=20044587, specimen_id=23248642, charttime=datetime.datetime(2113, 8, 25, 11, 34), value='INTUBATED.', valuenum=None, valueuom=None, ref_range_lower=None, ref_range_upper=None, flag=None, priority=None, comments='___', label='Intubated', fluid='Blood', category='Blood Gas')"
      ]
     },
     "execution_count": 9,
     "metadata": {},
     "output_type": "execute_result"
    }
   ],
   "source": [
    "cohort.labevents[0]"
   ]
  },
  {
   "cell_type": "code",
   "execution_count": 53,
   "metadata": {},
   "outputs": [],
   "source": [
    "lab_distr = LabEventDistributions(cohort.labevents)"
   ]
  },
  {
   "cell_type": "code",
   "execution_count": 54,
   "metadata": {},
   "outputs": [],
   "source": [
    "lab_comp = LabEventComparator(lab_distr)"
   ]
  },
  {
   "cell_type": "code",
   "execution_count": 41,
   "metadata": {},
   "outputs": [
    {
     "data": {
      "text/plain": [
       "False"
      ]
     },
     "execution_count": 41,
     "metadata": {},
     "output_type": "execute_result"
    }
   ],
   "source": [
    "a = \"1.5\".lstrip(\"-\").isdecimal()\n",
    "a"
   ]
  },
  {
   "cell_type": "code",
   "execution_count": 76,
   "metadata": {},
   "outputs": [
    {
     "data": {
      "text/plain": [
       "0.20390399635864842"
      ]
     },
     "execution_count": 76,
     "metadata": {},
     "output_type": "execute_result"
    }
   ],
   "source": [
    "lab_comp.compare(\n",
    "    cohort.similarity_encounters[1].labevents,\n",
    "    cohort.similarity_encounters[0].labevents,\n",
    "    scale_by_distribution=True,\n",
    ")\n"
   ]
  },
  {
   "cell_type": "code",
   "execution_count": 101,
   "metadata": {},
   "outputs": [
    {
     "name": "stdout",
     "output_type": "stream",
     "text": [
      "50868 12 10.625 0.6881428006618527\n",
      "50868 12 10.625 0.6881428006618527\n",
      "50868 10.625 12 0.6881428006618527\n",
      "50868 10.625 12 0.6881428006618527\n",
      "50868 10.625 12 0.6881428006618527\n",
      "50868 10.625 12 0.6881428006618527\n",
      "50868 10.625 12 0.6881428006618527\n",
      "50868 10.625 12 0.6881428006618527\n",
      "50868 12 10.625 0.6881428006618527\n",
      "50868 12 10.625 0.6881428006618527\n",
      "50868 12 10.625 0.6881428006618527\n",
      "50868 12 10.625 0.6881428006618527\n",
      "[1.0, 1.0, 1.0, 1.0, 1.0, 0.6881428006618527, 1.0, 1.0, 1.0, 1.0, 1.0, 1.0, 1.0, 1.0, 1.0, 1.0, 1.0, 1.0, 1.0, 1.0, 1.0, 0.6881428006618527, 1.0, 1.0, 1.0, 1.0, 1.0, 1.0, 1.0, 0.6881428006618527, 0.6881428006618527, 1.0, 0.6881428006618527, 0.6881428006618527, 0.6881428006618527, 0.6881428006618527, 1.0, 1.0, 0.6881428006618527, 1.0, 1.0, 1.0, 1.0, 1.0, 1.0, 0.6881428006618527, 1.0, 1.0, 1.0, 1.0, 1.0, 1.0, 1.0, 1.0, 1.0, 1.0, 1.0, 1.0, 1.0, 1.0, 1.0, 1.0, 1.0, 1.0, 1.0, 1.0, 1.0, 1.0, 0.6881428006618527, 1.0, 1.0, 1.0, 1.0, 1.0, 1.0, 0.6881428006618527, 1.0, 1.0, 1.0, 1.0]\n"
     ]
    },
    {
     "data": {
      "text/plain": [
       "0.9532214200992779"
      ]
     },
     "execution_count": 101,
     "metadata": {},
     "output_type": "execute_result"
    }
   ],
   "source": [
    "lab_comp.compare(\n",
    "    cohort.similarity_encounters[5].labevents,\n",
    "    cohort.similarity_encounters[5].labevents,\n",
    ")\n"
   ]
  },
  {
   "cell_type": "code",
   "execution_count": 75,
   "metadata": {},
   "outputs": [
    {
     "name": "stdout",
     "output_type": "stream",
     "text": [
      "Multiple units found for item_id: 51249\n",
      "Multiple units found for item_id: 51249\n",
      "Multiple units found for item_id: 51249\n",
      "Multiple units found for item_id: 51249\n",
      "Multiple units found for item_id: 51249\n",
      "Multiple units found for item_id: 51249\n",
      "Multiple units found for item_id: 51249\n",
      "Multiple units found for item_id: 51249\n",
      "Multiple units found for item_id: 51249\n",
      "Multiple units found for item_id: 51249\n",
      "Multiple units found for item_id: 51249\n",
      "Multiple units found for item_id: 51249\n",
      "Multiple units found for item_id: 51249\n",
      "Multiple units found for item_id: 51249\n",
      "Multiple units found for item_id: 51249\n",
      "Multiple units found for item_id: 51249\n",
      "Multiple units found for item_id: 51249\n",
      "Multiple units found for item_id: 51249\n",
      "Multiple units found for item_id: 51249\n",
      "Multiple units found for item_id: 51249\n",
      "Multiple units found for item_id: 51249\n",
      "Multiple units found for item_id: 51249\n",
      "Multiple units found for item_id: 51249\n",
      "Multiple units found for item_id: 51249\n",
      "Multiple units found for item_id: 51249\n",
      "Multiple units found for item_id: 51249\n",
      "Multiple units found for item_id: 51249\n",
      "Multiple units found for item_id: 51249\n",
      "Multiple units found for item_id: 51249\n",
      "Multiple units found for item_id: 51249\n",
      "Multiple units found for item_id: 51249\n",
      "Multiple units found for item_id: 51249\n",
      "Multiple units found for item_id: 51249\n",
      "Multiple units found for item_id: 51249\n",
      "Multiple units found for item_id: 51249\n",
      "Multiple units found for item_id: 51249\n",
      "Multiple units found for item_id: 51249\n",
      "Multiple units found for item_id: 51249\n",
      "Multiple units found for item_id: 51249\n",
      "Multiple units found for item_id: 51249\n",
      "Multiple units found for item_id: 51249\n",
      "Multiple units found for item_id: 51249\n",
      "Multiple units found for item_id: 51249\n",
      "Multiple units found for item_id: 51249\n",
      "Multiple units found for item_id: 51249\n",
      "Multiple units found for item_id: 51249\n",
      "Multiple units found for item_id: 51249\n",
      "Multiple units found for item_id: 51249\n",
      "Multiple units found for item_id: 51249\n",
      "Multiple units found for item_id: 51249\n",
      "Multiple units found for item_id: 51249\n",
      "Multiple units found for item_id: 51249\n",
      "Multiple units found for item_id: 51249\n",
      "Multiple units found for item_id: 51249\n",
      "Multiple units found for item_id: 51249\n",
      "Multiple units found for item_id: 51249\n",
      "Multiple units found for item_id: 51249\n",
      "Multiple units found for item_id: 51249\n",
      "Multiple units found for item_id: 51249\n",
      "Multiple units found for item_id: 51249\n",
      "Multiple units found for item_id: 51249\n",
      "Multiple units found for item_id: 51249\n",
      "Multiple units found for item_id: 51249\n",
      "Multiple units found for item_id: 51249\n",
      "Multiple units found for item_id: 51249\n",
      "Multiple units found for item_id: 51249\n",
      "Multiple units found for item_id: 51249\n",
      "Multiple units found for item_id: 51249\n",
      "Multiple units found for item_id: 51249\n",
      "Multiple units found for item_id: 51249\n",
      "Multiple units found for item_id: 51249\n",
      "Multiple units found for item_id: 51249\n",
      "Multiple units found for item_id: 51249\n",
      "Multiple units found for item_id: 51249\n",
      "Multiple units found for item_id: 51249\n",
      "Multiple units found for item_id: 51249\n",
      "Multiple units found for item_id: 51249\n",
      "Multiple units found for item_id: 51249\n",
      "Multiple units found for item_id: 51249\n",
      "Multiple units found for item_id: 51249\n",
      "Multiple units found for item_id: 51249\n",
      "Multiple units found for item_id: 51249\n",
      "Multiple units found for item_id: 51249\n",
      "Multiple units found for item_id: 51249\n",
      "Multiple units found for item_id: 51249\n",
      "Multiple units found for item_id: 51249\n",
      "Multiple units found for item_id: 51249\n",
      "Multiple units found for item_id: 51249\n",
      "Multiple units found for item_id: 51249\n",
      "Multiple units found for item_id: 51249\n",
      "Multiple units found for item_id: 51249\n",
      "Multiple units found for item_id: 51249\n",
      "Multiple units found for item_id: 51249\n",
      "Multiple units found for item_id: 51249\n",
      "Multiple units found for item_id: 51249\n",
      "Multiple units found for item_id: 51249\n",
      "Multiple units found for item_id: 51249\n",
      "Multiple units found for item_id: 51249\n",
      "Multiple units found for item_id: 51249\n",
      "Multiple units found for item_id: 51249\n",
      "Multiple units found for item_id: 51249\n",
      "Multiple units found for item_id: 51249\n",
      "Multiple units found for item_id: 51249\n",
      "Multiple units found for item_id: 51249\n",
      "Multiple units found for item_id: 51249\n",
      "Multiple units found for item_id: 51249\n",
      "Multiple units found for item_id: 51249\n",
      "Multiple units found for item_id: 51249\n",
      "Multiple units found for item_id: 51249\n",
      "Multiple units found for item_id: 51249\n",
      "Multiple units found for item_id: 51249\n",
      "Multiple units found for item_id: 51249\n",
      "Multiple units found for item_id: 51249\n",
      "Multiple units found for item_id: 51249\n",
      "Multiple units found for item_id: 51249\n",
      "Multiple units found for item_id: 51249\n",
      "Multiple units found for item_id: 51249\n",
      "Multiple units found for item_id: 51249\n",
      "Multiple units found for item_id: 51249\n",
      "Multiple units found for item_id: 51249\n",
      "Multiple units found for item_id: 51249\n",
      "Multiple units found for item_id: 51249\n",
      "Multiple units found for item_id: 51249\n",
      "Multiple units found for item_id: 51249\n",
      "Multiple units found for item_id: 51249\n",
      "Multiple units found for item_id: 51249\n",
      "Multiple units found for item_id: 51249\n",
      "Multiple units found for item_id: 51249\n",
      "Multiple units found for item_id: 51249\n",
      "Multiple units found for item_id: 51249\n",
      "Multiple units found for item_id: 51249\n",
      "Multiple units found for item_id: 51249\n",
      "Multiple units found for item_id: 51249\n",
      "Multiple units found for item_id: 51249\n",
      "Multiple units found for item_id: 51249\n",
      "Multiple units found for item_id: 51249\n",
      "Multiple units found for item_id: 51249\n",
      "Multiple units found for item_id: 51249\n",
      "Multiple units found for item_id: 51249\n",
      "Multiple units found for item_id: 51249\n",
      "Multiple units found for item_id: 51249\n",
      "Multiple units found for item_id: 51249\n",
      "Multiple units found for item_id: 51249\n",
      "Multiple units found for item_id: 51249\n",
      "Multiple units found for item_id: 51249\n",
      "Multiple units found for item_id: 51249\n",
      "Multiple units found for item_id: 51249\n",
      "Multiple units found for item_id: 51249\n",
      "Multiple units found for item_id: 51249\n",
      "Multiple units found for item_id: 51249\n",
      "Multiple units found for item_id: 51249\n",
      "Multiple units found for item_id: 51249\n",
      "Multiple units found for item_id: 51249\n",
      "Multiple units found for item_id: 51249\n",
      "Multiple units found for item_id: 51249\n",
      "Multiple units found for item_id: 51249\n",
      "Multiple units found for item_id: 51249\n",
      "Multiple units found for item_id: 51249\n",
      "Multiple units found for item_id: 51249\n",
      "Multiple units found for item_id: 51249\n",
      "Multiple units found for item_id: 51249\n",
      "Multiple units found for item_id: 51249\n",
      "Multiple units found for item_id: 51249\n",
      "Multiple units found for item_id: 51249\n",
      "Multiple units found for item_id: 51249\n",
      "Multiple units found for item_id: 51249\n",
      "Multiple units found for item_id: 51249\n",
      "Multiple units found for item_id: 51249\n",
      "Multiple units found for item_id: 51249\n",
      "Multiple units found for item_id: 51249\n",
      "Multiple units found for item_id: 51249\n",
      "Multiple units found for item_id: 51249\n",
      "Multiple units found for item_id: 51249\n",
      "Multiple units found for item_id: 51249\n",
      "Multiple units found for item_id: 51249\n",
      "Multiple units found for item_id: 51249\n",
      "Multiple units found for item_id: 51249\n",
      "Multiple units found for item_id: 51249\n",
      "Multiple units found for item_id: 51249\n",
      "Multiple units found for item_id: 51249\n",
      "Multiple units found for item_id: 51249\n",
      "Multiple units found for item_id: 51249\n",
      "Multiple units found for item_id: 51249\n",
      "Multiple units found for item_id: 51249\n",
      "Multiple units found for item_id: 51249\n",
      "Multiple units found for item_id: 51249\n",
      "Multiple units found for item_id: 51249\n",
      "Multiple units found for item_id: 51249\n",
      "Multiple units found for item_id: 51249\n",
      "Multiple units found for item_id: 51249\n",
      "Multiple units found for item_id: 51249\n",
      "Multiple units found for item_id: 51249\n",
      "Multiple units found for item_id: 51249\n",
      "Multiple units found for item_id: 51249\n",
      "Multiple units found for item_id: 51249\n",
      "Multiple units found for item_id: 51249\n",
      "Multiple units found for item_id: 51249\n",
      "Multiple units found for item_id: 51249\n",
      "Multiple units found for item_id: 51249\n",
      "Multiple units found for item_id: 51249\n",
      "Multiple units found for item_id: 51249\n",
      "Multiple units found for item_id: 51249\n",
      "Multiple units found for item_id: 51249\n",
      "Multiple units found for item_id: 51249\n",
      "Multiple units found for item_id: 51249\n",
      "Multiple units found for item_id: 51249\n",
      "Multiple units found for item_id: 51249\n",
      "Multiple units found for item_id: 51249\n",
      "Multiple units found for item_id: 51249\n",
      "Multiple units found for item_id: 51249\n",
      "Multiple units found for item_id: 51249\n",
      "Multiple units found for item_id: 51249\n",
      "Multiple units found for item_id: 51249\n",
      "Multiple units found for item_id: 51249\n",
      "Multiple units found for item_id: 51249\n",
      "Multiple units found for item_id: 51249\n",
      "Multiple units found for item_id: 51249\n",
      "Multiple units found for item_id: 51249\n",
      "Multiple units found for item_id: 51249\n",
      "Multiple units found for item_id: 51249\n",
      "Multiple units found for item_id: 51249\n",
      "Multiple units found for item_id: 51249\n",
      "Multiple units found for item_id: 51249\n",
      "Multiple units found for item_id: 51249\n",
      "Multiple units found for item_id: 51249\n",
      "Multiple units found for item_id: 51249\n",
      "Multiple units found for item_id: 51249\n",
      "Multiple units found for item_id: 51249\n"
     ]
    }
   ],
   "source": [
    "for a in cohort.similarity_encounters[0].labevents:\n",
    "    for b in cohort.similarity_encounters[1].labevents:\n",
    "            one = lab_comp.compare([a], [b], scale_by_distribution=True)\n",
    "            rwo = lab_comp.compare([b], [a], scale_by_distribution=True)\n",
    "            if not one == rwo:\n",
    "                print(\"WEEOE\")\n",
    "                print(one, rwo)"
   ]
  },
  {
   "cell_type": "code",
   "execution_count": 13,
   "metadata": {},
   "outputs": [],
   "source": [
    "from cohorts import EncounterComparator\n",
    "\n",
    "comp = EncounterComparator()\n"
   ]
  },
  {
   "cell_type": "code",
   "execution_count": 14,
   "metadata": {},
   "outputs": [
    {
     "data": {
      "text/plain": [
       "Demographics(subject_id=10001884, age=68, gender='F')"
      ]
     },
     "execution_count": 14,
     "metadata": {},
     "output_type": "execute_result"
    }
   ],
   "source": [
    "cohort.similarity_encounters[0].demographics\n"
   ]
  }
 ],
 "metadata": {
  "kernelspec": {
   "display_name": "venv",
   "language": "python",
   "name": "python3"
  },
  "language_info": {
   "codemirror_mode": {
    "name": "ipython",
    "version": 3
   },
   "file_extension": ".py",
   "mimetype": "text/x-python",
   "name": "python",
   "nbconvert_exporter": "python",
   "pygments_lexer": "ipython3",
   "version": "3.9.6"
  },
  "orig_nbformat": 4,
  "vscode": {
   "interpreter": {
    "hash": "f41e28c236def3ad43b88670ea83423f728d1db51185965b3def1bfb9c026208"
   }
  }
 },
 "nbformat": 4,
 "nbformat_minor": 2
}
