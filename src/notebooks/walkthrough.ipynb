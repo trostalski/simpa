{
 "cells": [
  {
   "cell_type": "code",
   "execution_count": 1,
   "metadata": {},
   "outputs": [],
   "source": [
    "%load_ext autoreload\n",
    "%autoreload 2"
   ]
  },
  {
   "cell_type": "code",
   "execution_count": 2,
   "metadata": {},
   "outputs": [],
   "source": [
    "import os\n",
    "import sys\n",
    "\n",
    "sys.path.insert(0, os.path.abspath(\"..\"))\n",
    "from dotenv import load_dotenv\n",
    "import seaborn as sns\n",
    "import pandas as pd\n",
    "import numpy as np\n",
    "\n",
    "from db import PostgresDB\n",
    "from schemas import Proband\n",
    "from cohorts import Cohort\n",
    "from matplotlib import pyplot as plt"
   ]
  },
  {
   "cell_type": "code",
   "execution_count": 3,
   "metadata": {},
   "outputs": [
    {
     "data": {
      "text/plain": [
       "True"
      ]
     },
     "execution_count": 3,
     "metadata": {},
     "output_type": "execute_result"
    }
   ],
   "source": [
    "load_dotenv()"
   ]
  },
  {
   "cell_type": "code",
   "execution_count": 4,
   "metadata": {},
   "outputs": [
    {
     "name": "stdout",
     "output_type": "stream",
     "text": [
      "Connected to database\n"
     ]
    }
   ],
   "source": [
    "db = PostgresDB(\n",
    "    db_name=os.getenv(\"DB_NAME\"),\n",
    "    host=os.getenv(\"DB_HOST\"),\n",
    "    port=os.getenv(\"DB_PORT\"),\n",
    "    user=os.getenv(\"DB_USER\"),\n",
    ")"
   ]
  },
  {
   "attachments": {},
   "cell_type": "markdown",
   "metadata": {},
   "source": [
    "## Compare Two Patients"
   ]
  },
  {
   "cell_type": "code",
   "execution_count": 5,
   "metadata": {},
   "outputs": [],
   "source": [
    "cohort = Cohort(db=db)"
   ]
  },
  {
   "cell_type": "code",
   "execution_count": 6,
   "metadata": {},
   "outputs": [],
   "source": [
    "cohort.get_random_cohort(size=10)\n",
    "cohort.initialize_data()\n",
    "cohort.remove_encounter_with_missing_category()\n",
    "cohort.similarity_encounters = cohort.similarity_encounters[:2]\n",
    "# filter patients that have all categories"
   ]
  },
  {
   "cell_type": "code",
   "execution_count": 8,
   "metadata": {},
   "outputs": [],
   "source": [
    "import pandas as pd\n",
    "\n",
    "def create_encounter_table(encounters):\n",
    "    encounters = [e.dict() for e in encounters]\n",
    "    # Create an empty dataframe\n",
    "    df_list = []\n",
    "\n",
    "    # Loop through each encounter and add a row to the dataframe\n",
    "    for enc in encounters:\n",
    "        # Get the relevant information from the encounter dictionary\n",
    "        hadm_id = enc['hadm_id']\n",
    "        age = enc['demographics']['age']\n",
    "        gender = enc['demographics']['gender']\n",
    "        ethnicity = enc['demographics']['ethnicity']\n",
    "        diagnoses = ', '.join(sorted([d['code'] for d in enc['diagnoses']]))\n",
    "        labevents = ', '.join(sorted([f\"{l['item_id']}: {l['value']}\" for l in enc['labevents']]))\n",
    "        \n",
    "        # Create a sub-table for the vitalsigns column\n",
    "        vitalsigns_dict = {}\n",
    "        for vs in enc['vitalsigns']:\n",
    "            vs_name = vs['name']\n",
    "            vs_value = vs['value']\n",
    "            vitalsigns_dict[vs_name] = vs_value\n",
    "        vitalsigns = pd.Series(vitalsigns_dict).sort_index().to_frame().T\n",
    "        vitalsigns.columns = [f\"{c}_vitalsigns\" for c in vitalsigns.columns]\n",
    "\n",
    "        inputevents = ', '.join(sorted([str(i['item_id']) for i in enc['inputevents']]))\n",
    "\n",
    "        # Add a row to the dataframe\n",
    "        df_list.append([hadm_id, age, gender, ethnicity, diagnoses, labevents, inputevents])\n",
    "        df_list[-1].extend(vitalsigns.values.tolist()[0])\n",
    "\n",
    "    # Create a pandas dataframe from the list of rows\n",
    "    columns = ['hadm_id', 'age', 'gender', 'ethnicity', 'diagnoses', 'labevents', 'inputevents']\n",
    "    columns.extend([f\"{c}_vitalsigns\" for c in vitalsigns_dict.keys()])\n",
    "    df = pd.DataFrame(df_list, columns=columns)\n",
    "\n",
    "    # Order the columns and rows alphabetically\n",
    "    # df = df.reindex(sorted(df.columns), axis=1)\n",
    "    df = df.sort_values(by='hadm_id')\n",
    "    df = df.set_index(\"hadm_id\")\n",
    "\n",
    "    return df\n"
   ]
  },
  {
   "cell_type": "code",
   "execution_count": 9,
   "metadata": {},
   "outputs": [],
   "source": [
    "import itertools\n",
    "\n",
    "\n",
    "def display_encounter_similarities(encounters):\n",
    "    encounters = [e.dict() for e in encounters]\n",
    "    for i, j in itertools.combinations(range(len(encounters)), 2):\n",
    "        enc_i = encounters[i]\n",
    "        enc_j = encounters[j]\n",
    "        print(\n",
    "            f\"Comparing encounter {enc_i['hadm_id']} with encounter {enc_j['hadm_id']}:\"\n",
    "        )\n",
    "\n",
    "        # Age difference\n",
    "        age_i = enc_i[\"demographics\"][\"age\"]\n",
    "        age_j = enc_j[\"demographics\"][\"age\"]\n",
    "        print(f\"Age difference: {abs(age_i - age_j)} years\")\n",
    "\n",
    "        # Gender comparison\n",
    "        gender_i = enc_i[\"demographics\"][\"gender\"]\n",
    "        gender_j = enc_j[\"demographics\"][\"gender\"]\n",
    "        if gender_i == gender_j:\n",
    "            print(f\"Gender: {gender_i}\")\n",
    "        else:\n",
    "            print(f\"Gender difference\")\n",
    "\n",
    "        # Ethnicity comparison\n",
    "        ethnicity_i = enc_i[\"demographics\"][\"ethnicity\"]\n",
    "        ethnicity_j = enc_j[\"demographics\"][\"ethnicity\"]\n",
    "        if ethnicity_i == ethnicity_j:\n",
    "            print(f\"Ethnicity: {ethnicity_i}\")\n",
    "        else:\n",
    "            print(\"Ethnicity difference\")\n",
    "\n",
    "        # Common diagnoses\n",
    "        diag_i = set([diag[\"code\"] for diag in enc_i[\"diagnoses\"]])\n",
    "        diag_j = set([diag[\"code\"] for diag in enc_j[\"diagnoses\"]])\n",
    "        common_diagnoses = diag_i.intersection(diag_j)\n",
    "        if common_diagnoses:\n",
    "            print(f\"Common diagnoses codes: {', '.join(common_diagnoses)}\")\n",
    "        else:\n",
    "            print(\"No common diagnoses codes\")\n",
    "\n",
    "        # Common labevents\n",
    "        lab_i = {(lab[\"item_id\"], lab[\"value\"]) for lab in enc_i[\"labevents\"]}\n",
    "        lab_j = {(lab[\"item_id\"], lab[\"value\"]) for lab in enc_j[\"labevents\"]}\n",
    "        common_labevents = lab_i.intersection(lab_j)\n",
    "        if common_labevents:\n",
    "            print(\"Common labevent item ids:\")\n",
    "            for item_id, value in common_labevents:\n",
    "                val_i = next(\n",
    "                    lab[\"value\"]\n",
    "                    for lab in enc_i[\"labevents\"]\n",
    "                    if lab[\"item_id\"] == item_id\n",
    "                )\n",
    "                val_j = next(\n",
    "                    lab[\"value\"]\n",
    "                    for lab in enc_j[\"labevents\"]\n",
    "                    if lab[\"item_id\"] == item_id\n",
    "                )\n",
    "                print(f\"Item {item_id}: {abs(val_i - val_j)}\")\n",
    "        else:\n",
    "            print(\"No common labevent item ids\")\n",
    "\n",
    "        # Common inputevents\n",
    "        input_i = {inp[\"item_id\"] for inp in enc_i[\"inputevents\"]}\n",
    "        input_j = {inp[\"item_id\"] for inp in enc_j[\"inputevents\"]}\n",
    "        common_input = input_i.intersection(input_j)\n",
    "        if common_input:\n",
    "            print(\n",
    "                f\"Common inputevent item ids: {', '.join(map(str, list(common_input)))}\"\n",
    "            )\n",
    "        else:\n",
    "            print(\"No common inputevent item ids\")\n",
    "\n",
    "        # Vitalsigns difference\n",
    "        vitals_i = {vital[\"id\"]: vital[\"value\"] for vital in enc_i[\"vitalsigns\"]}\n",
    "        vitals_j = {vital[\"id\"]: vital[\"value\"] for vital in enc_j[\"vitalsigns\"]}\n",
    "        common_vitals = set(vitals_i.keys()).intersection(set(vitals_j.keys()))\n",
    "        if common_vitals:\n",
    "            print(\"Common vitalsigns:\")\n",
    "            for vital_name in sorted(common_vitals):\n",
    "                val_i = vitals_i[vital_name]\n",
    "                val_j = vitals_j[vital_name]\n",
    "                print(f\"{vital_name}: {abs(val_i - val_j)}\")\n",
    "        else:\n",
    "            print(\"No common vitalsigns\")\n",
    "\n",
    "        print()  # Blank line to separate encounters\n"
   ]
  },
  {
   "cell_type": "code",
   "execution_count": 10,
   "metadata": {},
   "outputs": [
    {
     "data": {
      "text/html": [
       "<div>\n",
       "<style scoped>\n",
       "    .dataframe tbody tr th:only-of-type {\n",
       "        vertical-align: middle;\n",
       "    }\n",
       "\n",
       "    .dataframe tbody tr th {\n",
       "        vertical-align: top;\n",
       "    }\n",
       "\n",
       "    .dataframe thead th {\n",
       "        text-align: right;\n",
       "    }\n",
       "</style>\n",
       "<table border=\"1\" class=\"dataframe\">\n",
       "  <thead>\n",
       "    <tr style=\"text-align: right;\">\n",
       "      <th></th>\n",
       "      <th>age</th>\n",
       "      <th>gender</th>\n",
       "      <th>ethnicity</th>\n",
       "      <th>diagnoses</th>\n",
       "      <th>labevents</th>\n",
       "      <th>inputevents</th>\n",
       "      <th>heart_rate_vitalsigns</th>\n",
       "      <th>sbp_ni_vitalsigns</th>\n",
       "      <th>dbp_ni_vitalsigns</th>\n",
       "      <th>mbp_ni_vitalsigns</th>\n",
       "      <th>resp_rate_vitalsigns</th>\n",
       "      <th>temperature_vitalsigns</th>\n",
       "      <th>spo2_vitalsigns</th>\n",
       "      <th>glucose_vitalsigns</th>\n",
       "    </tr>\n",
       "    <tr>\n",
       "      <th>hadm_id</th>\n",
       "      <th></th>\n",
       "      <th></th>\n",
       "      <th></th>\n",
       "      <th></th>\n",
       "      <th></th>\n",
       "      <th></th>\n",
       "      <th></th>\n",
       "      <th></th>\n",
       "      <th></th>\n",
       "      <th></th>\n",
       "      <th></th>\n",
       "      <th></th>\n",
       "      <th></th>\n",
       "      <th></th>\n",
       "    </tr>\n",
       "  </thead>\n",
       "  <tbody>\n",
       "    <tr>\n",
       "      <th>24888864</th>\n",
       "      <td>91</td>\n",
       "      <td>M</td>\n",
       "      <td>WHITE</td>\n",
       "      <td>185, 2252, 2948, 36250, 4019, 4271, 85220, E88...</td>\n",
       "      <td>50861: 19.0, 50863: 95.0, 50868: 12.0, 50878: ...</td>\n",
       "      <td>223258, 225823, 225823, 226452, 226452, 226452...</td>\n",
       "      <td>59.866667</td>\n",
       "      <td>168.666667</td>\n",
       "      <td>64.600000</td>\n",
       "      <td>77.466667</td>\n",
       "      <td>18.133333</td>\n",
       "      <td>133.6</td>\n",
       "      <td>97.066667</td>\n",
       "      <td>36.290</td>\n",
       "    </tr>\n",
       "    <tr>\n",
       "      <th>28257726</th>\n",
       "      <td>70</td>\n",
       "      <td>M</td>\n",
       "      <td>ASIAN - CHINESE</td>\n",
       "      <td>2761, 32723, 34290, 3484, 34889, 37887, 4019, ...</td>\n",
       "      <td>50861: 44.0, 50862: 3.6, 50863: 62.0, 50867: 2...</td>\n",
       "      <td>220949, 220949, 221828, 221828, 222042, 222042...</td>\n",
       "      <td>70.000000</td>\n",
       "      <td>136.000000</td>\n",
       "      <td>67.458333</td>\n",
       "      <td>82.000000</td>\n",
       "      <td>15.041667</td>\n",
       "      <td>128.0</td>\n",
       "      <td>96.375000</td>\n",
       "      <td>36.922</td>\n",
       "    </tr>\n",
       "  </tbody>\n",
       "</table>\n",
       "</div>"
      ],
      "text/plain": [
       "          age gender        ethnicity  \\\n",
       "hadm_id                                 \n",
       "24888864   91      M            WHITE   \n",
       "28257726   70      M  ASIAN - CHINESE   \n",
       "\n",
       "                                                  diagnoses  \\\n",
       "hadm_id                                                       \n",
       "24888864  185, 2252, 2948, 36250, 4019, 4271, 85220, E88...   \n",
       "28257726  2761, 32723, 34290, 3484, 34889, 37887, 4019, ...   \n",
       "\n",
       "                                                  labevents  \\\n",
       "hadm_id                                                       \n",
       "24888864  50861: 19.0, 50863: 95.0, 50868: 12.0, 50878: ...   \n",
       "28257726  50861: 44.0, 50862: 3.6, 50863: 62.0, 50867: 2...   \n",
       "\n",
       "                                                inputevents  \\\n",
       "hadm_id                                                       \n",
       "24888864  223258, 225823, 225823, 226452, 226452, 226452...   \n",
       "28257726  220949, 220949, 221828, 221828, 222042, 222042...   \n",
       "\n",
       "          heart_rate_vitalsigns  sbp_ni_vitalsigns  dbp_ni_vitalsigns  \\\n",
       "hadm_id                                                                 \n",
       "24888864              59.866667         168.666667          64.600000   \n",
       "28257726              70.000000         136.000000          67.458333   \n",
       "\n",
       "          mbp_ni_vitalsigns  resp_rate_vitalsigns  temperature_vitalsigns  \\\n",
       "hadm_id                                                                     \n",
       "24888864          77.466667             18.133333                   133.6   \n",
       "28257726          82.000000             15.041667                   128.0   \n",
       "\n",
       "          spo2_vitalsigns  glucose_vitalsigns  \n",
       "hadm_id                                        \n",
       "24888864        97.066667              36.290  \n",
       "28257726        96.375000              36.922  "
      ]
     },
     "execution_count": 10,
     "metadata": {},
     "output_type": "execute_result"
    }
   ],
   "source": [
    "create_encounter_table(cohort.similarity_encounters[:2])"
   ]
  },
  {
   "cell_type": "code",
   "execution_count": 11,
   "metadata": {},
   "outputs": [
    {
     "name": "stdout",
     "output_type": "stream",
     "text": [
      "Comparing encounter 24888864 with encounter 28257726:\n",
      "Age difference: 21 years\n",
      "Gender: M\n",
      "Ethnicity difference\n",
      "Common diagnoses codes: 4019\n",
      "No common labevent item ids\n",
      "Common inputevent item ids: 226452\n",
      "Common vitalsigns:\n",
      "dbp_ni: 10.133333333333333\n",
      "glucose: 32.66666666666666\n",
      "heart_rate: 2.8583333333333343\n",
      "mbp_ni: 4.533333333333331\n",
      "resp_rate: 3.091666666666667\n",
      "sbp_ni: 5.599999999999994\n",
      "spo2: 0.6916666666666629\n",
      "temperature: 0.6319999999999979\n",
      "\n"
     ]
    }
   ],
   "source": [
    "display_encounter_similarities(cohort.similarity_encounters[:2])"
   ]
  },
  {
   "cell_type": "code",
   "execution_count": 12,
   "metadata": {},
   "outputs": [
    {
     "name": "stdout",
     "output_type": "stream",
     "text": [
      "Finished encounter 24888864\n",
      "Finished encounter 28257726\n"
     ]
    },
    {
     "data": {
      "text/plain": [
       "[{'encounter_a': 24888864,\n",
       "  'encounter_b': 24888864,\n",
       "  'similarity': {'demographics_sim': 1.0,\n",
       "   'diagnoses_sim': 1.0,\n",
       "   'labevents_sim': 1.0,\n",
       "   'vitalsigns_sim': 1.0,\n",
       "   'inputevents_sim': 1.0}},\n",
       " {'encounter_a': 24888864,\n",
       "  'encounter_b': 28257726,\n",
       "  'similarity': {'demographics_sim': 0.8846153846153846,\n",
       "   'diagnoses_sim': 0.1688287055250619,\n",
       "   'labevents_sim': 0.22168996782046146,\n",
       "   'vitalsigns_sim': 0.16870514849304458,\n",
       "   'inputevents_sim': 0.09090909090909091}},\n",
       " {'encounter_a': 28257726,\n",
       "  'encounter_b': 24888864,\n",
       "  'similarity': {'demographics_sim': 0.8846153846153846,\n",
       "   'diagnoses_sim': 0.1688287055250619,\n",
       "   'labevents_sim': 0.22168996782046146,\n",
       "   'vitalsigns_sim': 0.16870514849304458,\n",
       "   'inputevents_sim': 0.09090909090909091}},\n",
       " {'encounter_a': 28257726,\n",
       "  'encounter_b': 28257726,\n",
       "  'similarity': {'demographics_sim': 1.0,\n",
       "   'diagnoses_sim': 1.0,\n",
       "   'labevents_sim': 1.0,\n",
       "   'vitalsigns_sim': 1.0,\n",
       "   'inputevents_sim': 1.0}}]"
      ]
     },
     "execution_count": 12,
     "metadata": {},
     "output_type": "execute_result"
    }
   ],
   "source": [
    "cohort.compare_encounters(scale_by_distribution=True, normalize_categories=False)"
   ]
  }
 ],
 "metadata": {
  "kernelspec": {
   "display_name": "venv",
   "language": "python",
   "name": "python3"
  },
  "language_info": {
   "codemirror_mode": {
    "name": "ipython",
    "version": 3
   },
   "file_extension": ".py",
   "mimetype": "text/x-python",
   "name": "python",
   "nbconvert_exporter": "python",
   "pygments_lexer": "ipython3",
   "version": "3.9.6"
  },
  "orig_nbformat": 4
 },
 "nbformat": 4,
 "nbformat_minor": 2
}
