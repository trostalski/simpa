{
 "cells": [
  {
   "cell_type": "code",
   "execution_count": 15,
   "metadata": {},
   "outputs": [
    {
     "name": "stdout",
     "output_type": "stream",
     "text": [
      "The autoreload extension is already loaded. To reload it, use:\n",
      "  %reload_ext autoreload\n"
     ]
    }
   ],
   "source": [
    "%load_ext autoreload\n",
    "%autoreload 2"
   ]
  },
  {
   "cell_type": "code",
   "execution_count": 16,
   "metadata": {},
   "outputs": [],
   "source": [
    "import os\n",
    "import sys\n",
    "\n",
    "sys.path.insert(0, os.path.abspath(\"..\"))\n",
    "from dotenv import load_dotenv\n",
    "import seaborn as sns\n",
    "import pandas as pd\n",
    "import numpy as np\n",
    "\n",
    "from db import PostgresDB\n",
    "from schemas import Proband\n",
    "from cohorts import Cohort\n",
    "from matplotlib import pyplot as plt\n"
   ]
  },
  {
   "cell_type": "code",
   "execution_count": 17,
   "metadata": {},
   "outputs": [
    {
     "data": {
      "text/plain": [
       "True"
      ]
     },
     "execution_count": 17,
     "metadata": {},
     "output_type": "execute_result"
    }
   ],
   "source": [
    "load_dotenv()\n"
   ]
  },
  {
   "cell_type": "code",
   "execution_count": 18,
   "metadata": {},
   "outputs": [
    {
     "name": "stdout",
     "output_type": "stream",
     "text": [
      "Connected to database\n"
     ]
    }
   ],
   "source": [
    "db = PostgresDB(\n",
    "    db_name=os.getenv(\"DB_NAME\"),\n",
    "    host=os.getenv(\"DB_HOST\"),\n",
    "    port=os.getenv(\"DB_PORT\"),\n",
    "    user=os.getenv(\"DB_USER\"),\n",
    ")\n"
   ]
  },
  {
   "cell_type": "code",
   "execution_count": 19,
   "metadata": {},
   "outputs": [],
   "source": [
    "cohort = Cohort.from_query(\n",
    "    db=db,\n",
    "    query=\"\"\"\n",
    "        SELECT sep.subject_id, sta.hadm_id\n",
    "        FROM mimiciv_derived.sepsis3 sep, mimiciv_icu.icustays sta\n",
    "        WHERE sep.stay_id = sta.stay_id; \n",
    "    \"\"\",\n",
    "    name=\"sepsis3\",\n",
    ")\n"
   ]
  },
  {
   "cell_type": "code",
   "execution_count": 20,
   "metadata": {},
   "outputs": [],
   "source": [
    "cohort.initialize_data(with_tfidf_diagnoses=True)\n"
   ]
  },
  {
   "cell_type": "code",
   "execution_count": 21,
   "metadata": {},
   "outputs": [
    {
     "name": "stdout",
     "output_type": "stream",
     "text": [
      "Finished encounter 26184834\n",
      "Finished encounter 23581541\n",
      "Finished encounter 20345487\n",
      "Finished encounter 23822395\n",
      "Finished encounter 28994087\n",
      "Finished encounter 22725460\n",
      "Finished encounter 20321825\n",
      "Finished encounter 23473524\n",
      "Finished encounter 28662225\n",
      "Finished encounter 21329021\n",
      "Normalizing categories by scaling to range 0..1\n"
     ]
    }
   ],
   "source": [
    "similarity_scores = cohort.compare_encounters(\n",
    "    scale_by_distribution=True, normalize_categories=True\n",
    ")\n"
   ]
  },
  {
   "cell_type": "code",
   "execution_count": 22,
   "metadata": {},
   "outputs": [],
   "source": [
    "def insert_demographics_sim(cur, hadm_id_a, hadm_id_b, similarity_score, cohort_name):\n",
    "    query = \"\"\"\n",
    "        INSERT INTO demographics_similarity (hadm_id_a, hadm_id_b, raw_similarity_value, cohort_name)\n",
    "        VALUES (%s, %s, %s, %s);\n",
    "    \"\"\"\n",
    "    cur.execute(query, (hadm_id_a, hadm_id_b, similarity_score, cohort_name))\n",
    "\n",
    "\n",
    "def insert_icd_sim(cur, hadm_id_a, hadm_id_b, similarity_score, cohort_name):\n",
    "    query = \"\"\"\n",
    "        INSERT INTO icd_diagnoses_similarity (hadm_id_a, hadm_id_b, raw_similarity_value, cohort_name)\n",
    "        VALUES (%s, %s, %s, %s);\n",
    "    \"\"\"\n",
    "    cur.execute(query, (hadm_id_a, hadm_id_b, similarity_score, cohort_name))\n",
    "\n",
    "\n",
    "def insert_lab_sim(cur, hadm_id_a, hadm_id_b, similarity_score, cohort_name):\n",
    "    query = \"\"\"\n",
    "        INSERT INTO labevents_similarity (hadm_id_a, hadm_id_b, raw_similarity_value, cohort_name)\n",
    "        VALUES (%s, %s, %s, %s);\n",
    "    \"\"\"\n",
    "    cur.execute(query, (hadm_id_a, hadm_id_b, similarity_score, cohort_name))\n",
    "\n",
    "\n",
    "def insert_vitalsign_sim(cur, hadm_id_a, hadm_id_b, similarity_score, cohort_name):\n",
    "    query = \"\"\"\n",
    "        INSERT INTO vitalsigns_similarity (hadm_id_a, hadm_id_b, raw_similarity_value, cohort_name)\n",
    "        VALUES (%s, %s, %s, %s);\n",
    "    \"\"\"\n",
    "    cur.execute(query, (hadm_id_a, hadm_id_b, similarity_score, cohort_name))\n",
    "\n",
    "\n",
    "def insert_inputevents_sim(cur, hadm_id_a, hadm_id_b, similarity_score, cohort_name):\n",
    "    query = \"\"\"\n",
    "        INSERT INTO inputevents_similarity (hadm_id_a, hadm_id_b, raw_similarity_value, cohort_name)\n",
    "        VALUES (%s, %s, %s, %s);\n",
    "    \"\"\"\n",
    "    cur.execute(query, (hadm_id_a, hadm_id_b, similarity_score, cohort_name))\n"
   ]
  },
  {
   "cell_type": "code",
   "execution_count": 23,
   "metadata": {},
   "outputs": [],
   "source": [
    "cur = db.conn.cursor()\n",
    "for item in similarity_scores:\n",
    "    if item[\"encounter_a\"] == item[\"encounter_b\"]:\n",
    "        continue\n",
    "    encounter_a = item[\"encounter_a\"]\n",
    "    encounter_b = item[\"encounter_b\"]\n",
    "    demographics_sim = item[\"similarity\"][\"demographics_sim\"]\n",
    "    diagnoses_sim = item[\"similarity\"][\"diagnoses_sim\"]\n",
    "    labevents_sim = item[\"similarity\"][\"labevents_sim\"]\n",
    "    vitalsigns_sim = item[\"similarity\"][\"vitalsigns_sim\"]\n",
    "    inputevents_sim = item[\"similarity\"][\"inputevents_sim\"]\n",
    "    insert_demographics_sim(\n",
    "        cur, encounter_a, encounter_b, demographics_sim, cohort.name\n",
    "    )\n",
    "    insert_icd_sim(cur, encounter_a, encounter_b, diagnoses_sim, cohort.name)\n",
    "    insert_lab_sim(cur, encounter_a, encounter_b, labevents_sim, cohort.name)\n",
    "    insert_vitalsign_sim(cur, encounter_a, encounter_b, vitalsigns_sim, cohort.name)\n",
    "    insert_inputevents_sim(cur, encounter_a, encounter_b, inputevents_sim, cohort.name)\n",
    "\n",
    "db.conn.commit()\n",
    "db.close()\n",
    "cur.close()\n"
   ]
  },
  {
   "cell_type": "code",
   "execution_count": 24,
   "metadata": {},
   "outputs": [],
   "source": [
    "db.close()\n"
   ]
  }
 ],
 "metadata": {
  "kernelspec": {
   "display_name": "venv",
   "language": "python",
   "name": "python3"
  },
  "language_info": {
   "codemirror_mode": {
    "name": "ipython",
    "version": 3
   },
   "file_extension": ".py",
   "mimetype": "text/x-python",
   "name": "python",
   "nbconvert_exporter": "python",
   "pygments_lexer": "ipython3",
   "version": "3.9.6"
  },
  "orig_nbformat": 4
 },
 "nbformat": 4,
 "nbformat_minor": 2
}
