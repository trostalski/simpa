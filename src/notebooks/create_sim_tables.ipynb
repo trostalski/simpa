{
 "cells": [
  {
   "cell_type": "code",
   "execution_count": 1,
   "metadata": {},
   "outputs": [],
   "source": [
    "%load_ext autoreload\n",
    "%autoreload 2"
   ]
  },
  {
   "cell_type": "code",
   "execution_count": 4,
   "metadata": {},
   "outputs": [],
   "source": [
    "import os\n",
    "import sys\n",
    "import multiprocessing as mp\n",
    "\n",
    "sys.path.insert(0, os.path.abspath(\"..\"))\n",
    "from dotenv import load_dotenv\n",
    "from psycopg2.extras import execute_batch\n",
    "import seaborn as sns\n",
    "import pandas as pd\n",
    "import numpy as np\n",
    "\n",
    "from db import PostgresDB\n",
    "from schemas import Proband\n",
    "from cohorts import Cohort\n",
    "from matplotlib import pyplot as plt\n",
    "import sql_queries as sq"
   ]
  },
  {
   "cell_type": "code",
   "execution_count": 3,
   "metadata": {},
   "outputs": [],
   "source": [
    "from helper import psycop_to_asyncpg_string"
   ]
  },
  {
   "cell_type": "code",
   "execution_count": 6,
   "metadata": {},
   "outputs": [
    {
     "data": {
      "text/plain": [
       "'SELECT sep.subject_id, sep.stay_id, sta.hadm_id FROM mimiciv_derived.sepsis3 sep, mimiciv_icu.icustays sta, mimiciv_derived.age a, mimiciv_hosp.patients p WHERE sep.stay_id = sta.stay_id AND sta.hadm_id = a.hadm_id AND p.subject_id = sta.subject_id AND a.age >= $0 AND a.age <= $1 AND p.gender = $2'"
      ]
     },
     "execution_count": 6,
     "metadata": {},
     "output_type": "execute_result"
    }
   ],
   "source": [
    "psycop_to_asyncpg_string(sq.sepsis_cohort)"
   ]
  },
  {
   "cell_type": "code",
   "execution_count": 3,
   "metadata": {},
   "outputs": [
    {
     "data": {
      "text/plain": [
       "True"
      ]
     },
     "execution_count": 3,
     "metadata": {},
     "output_type": "execute_result"
    }
   ],
   "source": [
    "load_dotenv()\n"
   ]
  },
  {
   "cell_type": "code",
   "execution_count": 28,
   "metadata": {},
   "outputs": [
    {
     "name": "stdout",
     "output_type": "stream",
     "text": [
      "Connected to database\n"
     ]
    }
   ],
   "source": [
    "db = PostgresDB(\n",
    "    db_name=os.getenv(\"DB_NAME\"),\n",
    "    host=os.getenv(\"DB_HOST\"),\n",
    "    port=os.getenv(\"DB_PORT\"),\n",
    "    user=os.getenv(\"DB_USER\"),\n",
    ")\n"
   ]
  },
  {
   "cell_type": "code",
   "execution_count": 5,
   "metadata": {},
   "outputs": [],
   "source": [
    "cohort = Cohort.from_query(\n",
    "    db=db,\n",
    "    query=\"\"\"\n",
    "        SELECT sep.subject_id, sta.hadm_id\n",
    "        FROM mimiciv_derived.sepsis3 sep, mimiciv_icu.icustays sta\n",
    "        WHERE sep.stay_id = sta.stay_id LIMIT 100; \n",
    "    \"\"\",\n",
    "    name=\"sepsis3\",\n",
    ")\n"
   ]
  },
  {
   "cell_type": "code",
   "execution_count": 6,
   "metadata": {},
   "outputs": [
    {
     "data": {
      "text/plain": [
       "100"
      ]
     },
     "execution_count": 6,
     "metadata": {},
     "output_type": "execute_result"
    }
   ],
   "source": [
    "len(cohort.participants)\n"
   ]
  },
  {
   "cell_type": "code",
   "execution_count": 7,
   "metadata": {},
   "outputs": [],
   "source": [
    "cohort.initialize_data(with_tfidf_diagnoses=True)\n"
   ]
  },
  {
   "cell_type": "code",
   "execution_count": 10,
   "metadata": {},
   "outputs": [
    {
     "name": "stdout",
     "output_type": "stream",
     "text": [
      "Finished encounter 26184834\n",
      "Finished encounter 23581541\n",
      "Finished encounter 20345487\n",
      "Finished encounter 23822395\n",
      "Finished encounter 28994087\n",
      "Finished encounter 22725460\n",
      "Finished encounter 20321825\n",
      "Finished encounter 23473524\n",
      "Finished encounter 28662225\n",
      "Finished encounter 21329021\n",
      "Finished encounter 24982426\n",
      "Finished encounter 28094813\n",
      "Finished encounter 26048429\n",
      "Finished encounter 20214994\n",
      "Finished encounter 23559586\n",
      "Finished encounter 23559586\n",
      "Finished encounter 24181354\n",
      "Finished encounter 22869003\n",
      "Finished encounter 23920883\n",
      "Finished encounter 25777141\n",
      "Finished encounter 26488315\n",
      "Finished encounter 28128182\n",
      "Finished encounter 29988601\n",
      "Finished encounter 23251352\n",
      "Finished encounter 29242151\n",
      "Finished encounter 22081550\n",
      "Finished encounter 27411876\n",
      "Finished encounter 24817563\n",
      "Finished encounter 20626031\n",
      "Finished encounter 28661809\n",
      "Finished encounter 22942076\n",
      "Finished encounter 23295760\n",
      "Finished encounter 22987108\n",
      "Finished encounter 20338077\n",
      "Finished encounter 28324362\n",
      "Finished encounter 26359957\n",
      "Finished encounter 29842315\n",
      "Finished encounter 22429197\n",
      "Finished encounter 26712576\n",
      "Finished encounter 27505812\n",
      "Finished encounter 20219031\n",
      "Finished encounter 22216667\n",
      "Finished encounter 22181970\n",
      "Finished encounter 29339128\n",
      "Finished encounter 26779316\n",
      "Finished encounter 28665904\n",
      "Finished encounter 22098926\n",
      "Finished encounter 29669860\n",
      "Finished encounter 22009484\n",
      "Finished encounter 25809882\n",
      "Finished encounter 27487226\n",
      "Finished encounter 24698912\n",
      "Finished encounter 22130791\n",
      "Finished encounter 28506150\n",
      "Finished encounter 27417763\n",
      "Finished encounter 27417763\n",
      "Finished encounter 21095812\n",
      "Finished encounter 22580355\n",
      "Finished encounter 29739025\n",
      "Finished encounter 23415994\n",
      "Finished encounter 29414705\n",
      "Finished encounter 21027282\n",
      "Finished encounter 21101111\n",
      "Finished encounter 20938964\n",
      "Finished encounter 21457723\n",
      "Finished encounter 27525946\n",
      "Finished encounter 29279905\n",
      "Finished encounter 24997044\n",
      "Finished encounter 27738145\n",
      "Finished encounter 28761725\n",
      "Finished encounter 27984218\n",
      "Finished encounter 23831430\n",
      "Finished encounter 23831430\n",
      "Finished encounter 23831430\n",
      "Finished encounter 25826145\n",
      "Finished encounter 23488445\n",
      "Finished encounter 29974575\n",
      "Finished encounter 28998349\n",
      "Finished encounter 23785565\n",
      "Finished encounter 24623461\n",
      "Finished encounter 24600926\n",
      "Finished encounter 27180902\n",
      "Finished encounter 21133938\n",
      "Finished encounter 28872262\n",
      "Finished encounter 25262533\n",
      "Finished encounter 20044587\n",
      "Finished encounter 25154057\n",
      "Finished encounter 24614671\n",
      "Finished encounter 23527884\n",
      "Finished encounter 26275841\n",
      "Finished encounter 28166872\n",
      "Finished encounter 24331106\n",
      "Finished encounter 23954590\n",
      "Finished encounter 28919637\n",
      "Finished encounter 25729446\n",
      "Finished encounter 22205327\n",
      "Finished encounter 22205327\n",
      "Finished encounter 27489281\n",
      "Finished encounter 27592458\n",
      "Finished encounter 27018952\n",
      "Normalizing categories by scaling to range 0..1\n"
     ]
    }
   ],
   "source": [
    "similarity_scores = cohort.compare_encounters(\n",
    "    scale_by_distribution=True, normalize_categories=True\n",
    ")\n"
   ]
  },
  {
   "cell_type": "code",
   "execution_count": 15,
   "metadata": {},
   "outputs": [],
   "source": [
    "def insert_demographics_sim(cur, input_batch):\n",
    "    query = \"\"\"\n",
    "        INSERT INTO demographics_similarity (hadm_id_a, hadm_id_b, raw_similarity_value, cohort_name)\n",
    "        VALUES (%s, %s, %s, %s);\n",
    "    \"\"\"\n",
    "    execute_batch(cur, query, input_batch)\n",
    "\n",
    "\n",
    "def insert_icd_sim(cur, input_batch):\n",
    "    query = \"\"\"\n",
    "        INSERT INTO icd_diagnoses_similarity (hadm_id_a, hadm_id_b, raw_similarity_value, cohort_name)\n",
    "        VALUES (%s, %s, %s, %s);\n",
    "    \"\"\"\n",
    "    execute_batch(cur, query, input_batch)\n",
    "\n",
    "\n",
    "def insert_lab_sim(cur, input_batch):\n",
    "    query = \"\"\"\n",
    "        INSERT INTO labevents_similarity (hadm_id_a, hadm_id_b, raw_similarity_value, cohort_name)\n",
    "        VALUES (%s, %s, %s, %s);\n",
    "    \"\"\"\n",
    "    execute_batch(cur, query, input_batch)\n",
    "\n",
    "\n",
    "def insert_vitalsign_sim(cur, input_batch):\n",
    "    query = \"\"\"\n",
    "        INSERT INTO vitalsigns_similarity (hadm_id_a, hadm_id_b, raw_similarity_value, cohort_name)\n",
    "        VALUES (%s, %s, %s, %s);\n",
    "    \"\"\"\n",
    "    execute_batch(cur, query, input_batch)\n",
    "\n",
    "\n",
    "def insert_inputevents_sim(cur, input_batch):\n",
    "    query = \"\"\"\n",
    "        INSERT INTO inputevents_similarity (hadm_id_a, hadm_id_b, raw_similarity_value, cohort_name)\n",
    "        VALUES (%s, %s, %s, %s);\n",
    "    \"\"\"\n",
    "    execute_batch(cur, query, input_batch)\n"
   ]
  },
  {
   "cell_type": "code",
   "execution_count": 31,
   "metadata": {},
   "outputs": [
    {
     "ename": "UniqueViolation",
     "evalue": "duplicate key value violates unique constraint \"demographics_similarity_pkey\"\nDETAIL:  Key (hadm_id_a, hadm_id_b)=(26184834, 23581541) already exists.\n",
     "output_type": "error",
     "traceback": [
      "\u001b[0;31m---------------------------------------------------------------------------\u001b[0m",
      "\u001b[0;31mUniqueViolation\u001b[0m                           Traceback (most recent call last)",
      "Cell \u001b[0;32mIn[31], line 34\u001b[0m\n\u001b[1;32m     30\u001b[0m     inputevents_sim \u001b[39m=\u001b[39m item[\u001b[39m\"\u001b[39m\u001b[39msimilarity\u001b[39m\u001b[39m\"\u001b[39m][\u001b[39m\"\u001b[39m\u001b[39minputevents_sim\u001b[39m\u001b[39m\"\u001b[39m]\n\u001b[1;32m     31\u001b[0m     inputevents_sim_batch\u001b[39m.\u001b[39mappend(\n\u001b[1;32m     32\u001b[0m         (encounter_a, encounter_b, inputevents_sim, cohort\u001b[39m.\u001b[39mname)\n\u001b[1;32m     33\u001b[0m     )\n\u001b[0;32m---> 34\u001b[0m insert_demographics_sim(cur, demographics_sim_batch)\n\u001b[1;32m     35\u001b[0m insert_icd_sim(cur, diagnoses_sim_batch)\n\u001b[1;32m     36\u001b[0m insert_lab_sim(cur, labevents_sim_batch)\n",
      "Cell \u001b[0;32mIn[15], line 6\u001b[0m, in \u001b[0;36minsert_demographics_sim\u001b[0;34m(cur, input_batch)\u001b[0m\n\u001b[1;32m      1\u001b[0m \u001b[39mdef\u001b[39;00m \u001b[39minsert_demographics_sim\u001b[39m(cur, input_batch):\n\u001b[1;32m      2\u001b[0m     query \u001b[39m=\u001b[39m \u001b[39m\"\"\"\u001b[39m\n\u001b[1;32m      3\u001b[0m \u001b[39m        INSERT INTO demographics_similarity (hadm_id_a, hadm_id_b, raw_similarity_value, cohort_name)\u001b[39m\n\u001b[1;32m      4\u001b[0m \u001b[39m        VALUES (\u001b[39m\u001b[39m%s\u001b[39;00m\u001b[39m, \u001b[39m\u001b[39m%s\u001b[39;00m\u001b[39m, \u001b[39m\u001b[39m%s\u001b[39;00m\u001b[39m, \u001b[39m\u001b[39m%s\u001b[39;00m\u001b[39m);\u001b[39m\n\u001b[1;32m      5\u001b[0m \u001b[39m    \u001b[39m\u001b[39m\"\"\"\u001b[39m\n\u001b[0;32m----> 6\u001b[0m     execute_batch(cur, query, input_batch)\n",
      "File \u001b[0;32m~/Git/simpa/venv/lib/python3.9/site-packages/psycopg2/extras.py:1216\u001b[0m, in \u001b[0;36mexecute_batch\u001b[0;34m(cur, sql, argslist, page_size)\u001b[0m\n\u001b[1;32m   1214\u001b[0m \u001b[39mfor\u001b[39;00m page \u001b[39min\u001b[39;00m _paginate(argslist, page_size\u001b[39m=\u001b[39mpage_size):\n\u001b[1;32m   1215\u001b[0m     sqls \u001b[39m=\u001b[39m [cur\u001b[39m.\u001b[39mmogrify(sql, args) \u001b[39mfor\u001b[39;00m args \u001b[39min\u001b[39;00m page]\n\u001b[0;32m-> 1216\u001b[0m     cur\u001b[39m.\u001b[39;49mexecute(\u001b[39mb\u001b[39;49m\u001b[39m\"\u001b[39;49m\u001b[39m;\u001b[39;49m\u001b[39m\"\u001b[39;49m\u001b[39m.\u001b[39;49mjoin(sqls))\n",
      "\u001b[0;31mUniqueViolation\u001b[0m: duplicate key value violates unique constraint \"demographics_similarity_pkey\"\nDETAIL:  Key (hadm_id_a, hadm_id_b)=(26184834, 23581541) already exists.\n"
     ]
    }
   ],
   "source": [
    "cur = db.conn.cursor()\n",
    "\n",
    "seen_encounters = set()\n",
    "demographics_sim_batch = []\n",
    "diagnoses_sim_batch = []\n",
    "labevents_sim_batch = []\n",
    "vitalsigns_sim_batch = []\n",
    "inputevents_sim_batch = []\n",
    "\n",
    "for item in similarity_scores:\n",
    "    encounter_a = item[\"encounter_a\"]\n",
    "    encounter_b = item[\"encounter_b\"]\n",
    "\n",
    "    if encounter_a == encounter_b:\n",
    "        continue\n",
    "    elif tuple(sorted([encounter_a, encounter_b])) in seen_encounters:\n",
    "        continue\n",
    "    else:\n",
    "        seen_encounters.add(tuple(sorted([encounter_a, encounter_b])))\n",
    "    demographics_sim = item[\"similarity\"][\"demographics_sim\"]\n",
    "    demographics_sim_batch.append(\n",
    "        (encounter_a, encounter_b, demographics_sim, cohort.name)\n",
    "    )\n",
    "    diagnoses_sim = item[\"similarity\"][\"diagnoses_sim\"]\n",
    "    diagnoses_sim_batch.append((encounter_a, encounter_b, diagnoses_sim, cohort.name))\n",
    "    labevents_sim = item[\"similarity\"][\"labevents_sim\"]\n",
    "    labevents_sim_batch.append((encounter_a, encounter_b, labevents_sim, cohort.name))\n",
    "    vitalsigns_sim = item[\"similarity\"][\"vitalsigns_sim\"]\n",
    "    vitalsigns_sim_batch.append((encounter_a, encounter_b, vitalsigns_sim, cohort.name))\n",
    "    inputevents_sim = item[\"similarity\"][\"inputevents_sim\"]\n",
    "    inputevents_sim_batch.append(\n",
    "        (encounter_a, encounter_b, inputevents_sim, cohort.name)\n",
    "    )\n",
    "insert_demographics_sim(cur, demographics_sim_batch)\n",
    "insert_icd_sim(cur, diagnoses_sim_batch)\n",
    "insert_lab_sim(cur, labevents_sim_batch)\n",
    "insert_vitalsign_sim(cur, vitalsigns_sim_batch)\n",
    "insert_inputevents_sim(cur, inputevents_sim_batch)\n",
    "db.conn.commit()\n",
    "cur.close()\n"
   ]
  },
  {
   "cell_type": "code",
   "execution_count": 26,
   "metadata": {},
   "outputs": [],
   "source": [
    "db.close()\n"
   ]
  }
 ],
 "metadata": {
  "kernelspec": {
   "display_name": "venv",
   "language": "python",
   "name": "python3"
  },
  "language_info": {
   "codemirror_mode": {
    "name": "ipython",
    "version": 3
   },
   "file_extension": ".py",
   "mimetype": "text/x-python",
   "name": "python",
   "nbconvert_exporter": "python",
   "pygments_lexer": "ipython3",
   "version": "3.9.6"
  },
  "orig_nbformat": 4
 },
 "nbformat": 4,
 "nbformat_minor": 2
}
