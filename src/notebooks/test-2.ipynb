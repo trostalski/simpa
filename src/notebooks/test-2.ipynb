{
 "cells": [
  {
   "cell_type": "code",
   "execution_count": 1,
   "metadata": {},
   "outputs": [],
   "source": [
    "%load_ext autoreload\n",
    "%autoreload 2"
   ]
  },
  {
   "cell_type": "code",
   "execution_count": 2,
   "metadata": {},
   "outputs": [],
   "source": [
    "import os\n",
    "import sys\n",
    "\n",
    "sys.path.insert(0, os.path.abspath(\"..\"))\n",
    "from dotenv import load_dotenv\n",
    "import seaborn as sns\n",
    "import pandas as pd\n",
    "import numpy as np\n",
    "\n",
    "from db import PostgresDB\n",
    "from schemas import Proband\n",
    "from cohorts import Cohort, EncounterComparator"
   ]
  },
  {
   "cell_type": "code",
   "execution_count": 3,
   "metadata": {},
   "outputs": [
    {
     "data": {
      "text/plain": [
       "True"
      ]
     },
     "execution_count": 3,
     "metadata": {},
     "output_type": "execute_result"
    }
   ],
   "source": [
    "load_dotenv()"
   ]
  },
  {
   "cell_type": "code",
   "execution_count": 4,
   "metadata": {},
   "outputs": [
    {
     "name": "stdout",
     "output_type": "stream",
     "text": [
      "Connected to database\n"
     ]
    }
   ],
   "source": [
    "db = PostgresDB(\n",
    "    db_name=os.getenv(\"DB_NAME\"),\n",
    "    host=os.getenv(\"DB_HOST\"),\n",
    "    port=os.getenv(\"DB_PORT\"),\n",
    "    user=os.getenv(\"DB_USER\"),\n",
    ")\n"
   ]
  },
  {
   "cell_type": "code",
   "execution_count": 5,
   "metadata": {},
   "outputs": [],
   "source": [
    "cohort = Cohort(db=db)"
   ]
  },
  {
   "cell_type": "code",
   "execution_count": 6,
   "metadata": {},
   "outputs": [],
   "source": [
    "cohort.get_sepsis_cohort(size=10)"
   ]
  },
  {
   "cell_type": "code",
   "execution_count": 7,
   "metadata": {},
   "outputs": [
    {
     "ename": "ValidationError",
     "evalue": "1 validation error for SimilarityEncounter\ninputevents\n  field required (type=value_error.missing)",
     "output_type": "error",
     "traceback": [
      "\u001b[0;31m---------------------------------------------------------------------------\u001b[0m",
      "\u001b[0;31mValidationError\u001b[0m                           Traceback (most recent call last)",
      "Cell \u001b[0;32mIn[7], line 1\u001b[0m\n\u001b[0;32m----> 1\u001b[0m cohort\u001b[39m.\u001b[39;49minitialize_data()\n",
      "File \u001b[0;32m~/Git/simpa/src/cohorts.py:69\u001b[0m, in \u001b[0;36mCohort.initialize_data\u001b[0;34m(self, with_tfidf_diagnoses)\u001b[0m\n\u001b[1;32m     67\u001b[0m \u001b[39mself\u001b[39m\u001b[39m.\u001b[39mvitalsigns \u001b[39m=\u001b[39m \u001b[39mself\u001b[39m\u001b[39m.\u001b[39mdb\u001b[39m.\u001b[39mget_vitalsigns(\u001b[39mself\u001b[39m\u001b[39m.\u001b[39mhadm_ids)\n\u001b[1;32m     68\u001b[0m \u001b[39mself\u001b[39m\u001b[39m.\u001b[39minputevents \u001b[39m=\u001b[39m \u001b[39mself\u001b[39m\u001b[39m.\u001b[39mdb\u001b[39m.\u001b[39mget_inputevents(\u001b[39mself\u001b[39m\u001b[39m.\u001b[39mhadm_ids)\n\u001b[0;32m---> 69\u001b[0m \u001b[39mself\u001b[39m\u001b[39m.\u001b[39msimilarity_encounters \u001b[39m=\u001b[39m \u001b[39mself\u001b[39;49m\u001b[39m.\u001b[39;49m_create_similarity_encounters()\n\u001b[1;32m     70\u001b[0m \u001b[39mif\u001b[39;00m with_tfidf_diagnoses:\n\u001b[1;32m     71\u001b[0m     \u001b[39mself\u001b[39m\u001b[39m.\u001b[39mencounter_with_code_cache \u001b[39m=\u001b[39m {}\n",
      "File \u001b[0;32m~/Git/simpa/src/cohorts.py:99\u001b[0m, in \u001b[0;36mCohort._create_similarity_encounters\u001b[0;34m(self)\u001b[0m\n\u001b[1;32m     96\u001b[0m         \u001b[39mif\u001b[39;00m d\u001b[39m.\u001b[39msubject_id \u001b[39m==\u001b[39m patient\u001b[39m.\u001b[39msubject_id:\n\u001b[1;32m     97\u001b[0m             demo \u001b[39m=\u001b[39m d\n\u001b[1;32m     98\u001b[0m     result\u001b[39m.\u001b[39mappend(\n\u001b[0;32m---> 99\u001b[0m         SimilarityEncounter(\n\u001b[1;32m    100\u001b[0m             subject_id\u001b[39m=\u001b[39;49mpatient\u001b[39m.\u001b[39;49msubject_id,\n\u001b[1;32m    101\u001b[0m             hadm_id\u001b[39m=\u001b[39;49mpatient\u001b[39m.\u001b[39;49mhadm_id,\n\u001b[1;32m    102\u001b[0m             diagnoses\u001b[39m=\u001b[39;49mdiagnoses,\n\u001b[1;32m    103\u001b[0m             demographics\u001b[39m=\u001b[39;49mdemo,\n\u001b[1;32m    104\u001b[0m             labevents\u001b[39m=\u001b[39;49mlab,\n\u001b[1;32m    105\u001b[0m             vitalsigns\u001b[39m=\u001b[39;49mvitalsigns,\n\u001b[1;32m    106\u001b[0m             inputevetnts\u001b[39m=\u001b[39;49minputevents,\n\u001b[1;32m    107\u001b[0m         )\n\u001b[1;32m    108\u001b[0m     )\n\u001b[1;32m    109\u001b[0m \u001b[39mreturn\u001b[39;00m result\n",
      "File \u001b[0;32m~/Git/simpa/venv/lib/python3.9/site-packages/pydantic/main.py:342\u001b[0m, in \u001b[0;36mpydantic.main.BaseModel.__init__\u001b[0;34m()\u001b[0m\n",
      "\u001b[0;31mValidationError\u001b[0m: 1 validation error for SimilarityEncounter\ninputevents\n  field required (type=value_error.missing)"
     ]
    }
   ],
   "source": [
    "cohort.initialize_data()"
   ]
  },
  {
   "cell_type": "code",
   "execution_count": null,
   "metadata": {},
   "outputs": [],
   "source": [
    "cohort.initialize_data(with_tfidf_diagnoses=True)"
   ]
  },
  {
   "cell_type": "code",
   "execution_count": null,
   "metadata": {},
   "outputs": [
    {
     "ename": "AttributeError",
     "evalue": "'SimilarityEncounter' object has no attribute 'inputevents'",
     "output_type": "error",
     "traceback": [
      "\u001b[0;31m---------------------------------------------------------------------------\u001b[0m",
      "\u001b[0;31mAttributeError\u001b[0m                            Traceback (most recent call last)",
      "Cell \u001b[0;32mIn[15], line 1\u001b[0m\n\u001b[0;32m----> 1\u001b[0m r \u001b[39m=\u001b[39m cohort\u001b[39m.\u001b[39;49mcompare_encounters(\n\u001b[1;32m      2\u001b[0m     demographics_weight\u001b[39m=\u001b[39;49m\u001b[39m0.0\u001b[39;49m,\n\u001b[1;32m      3\u001b[0m     diagnoses_weight\u001b[39m=\u001b[39;49m\u001b[39m0.0\u001b[39;49m,\n\u001b[1;32m      4\u001b[0m     labevents_weight\u001b[39m=\u001b[39;49m\u001b[39m0.0\u001b[39;49m,\n\u001b[1;32m      5\u001b[0m     vitalsigns_weight\u001b[39m=\u001b[39;49m\u001b[39m1.0\u001b[39;49m,\n\u001b[1;32m      6\u001b[0m     normalize_categories\u001b[39m=\u001b[39;49m\u001b[39mTrue\u001b[39;49;00m,\n\u001b[1;32m      7\u001b[0m     aggregate_method\u001b[39m=\u001b[39;49m\u001b[39m\"\u001b[39;49m\u001b[39mmean\u001b[39;49m\u001b[39m\"\u001b[39;49m,\n\u001b[1;32m      8\u001b[0m )\n",
      "File \u001b[0;32m~/Git/simpa/src/cohorts.py:142\u001b[0m, in \u001b[0;36mCohort.compare_encounters\u001b[0;34m(self, demographics_weight, diagnoses_weight, labevents_weight, vitalsigns_weight, inputevents_weight, aggregate_method, normalize_categories)\u001b[0m\n\u001b[1;32m    130\u001b[0m     result\u001b[39m.\u001b[39mappend(\n\u001b[1;32m    131\u001b[0m         {\n\u001b[1;32m    132\u001b[0m             \u001b[39m\"\u001b[39m\u001b[39mencounter_a\u001b[39m\u001b[39m\"\u001b[39m: encounter_a\u001b[39m.\u001b[39mhadm_id,\n\u001b[0;32m   (...)\u001b[0m\n\u001b[1;32m    139\u001b[0m         }\n\u001b[1;32m    140\u001b[0m     )\n\u001b[1;32m    141\u001b[0m \u001b[39melse\u001b[39;00m:\n\u001b[0;32m--> 142\u001b[0m     similarity \u001b[39m=\u001b[39m comparator\u001b[39m.\u001b[39;49mcompare(\n\u001b[1;32m    143\u001b[0m         encounter_a,\n\u001b[1;32m    144\u001b[0m         encounter_b,\n\u001b[1;32m    145\u001b[0m         demographics_weight\u001b[39m=\u001b[39;49mdemographics_weight,\n\u001b[1;32m    146\u001b[0m         diagnoses_weight\u001b[39m=\u001b[39;49mdiagnoses_weight,\n\u001b[1;32m    147\u001b[0m         labevents_weight\u001b[39m=\u001b[39;49mlabevents_weight,\n\u001b[1;32m    148\u001b[0m         vitalsigns_weight\u001b[39m=\u001b[39;49mvitalsigns_weight,\n\u001b[1;32m    149\u001b[0m         inputevents_weight\u001b[39m=\u001b[39;49minputevents_weight,\n\u001b[1;32m    150\u001b[0m         aggregate_method\u001b[39m=\u001b[39;49maggregate_method\n\u001b[1;32m    151\u001b[0m         \u001b[39mif\u001b[39;49;00m \u001b[39mnot\u001b[39;49;00m normalize_categories\n\u001b[1;32m    152\u001b[0m         \u001b[39melse\u001b[39;49;00m \u001b[39mNone\u001b[39;49;00m,\n\u001b[1;32m    153\u001b[0m     )\n\u001b[1;32m    154\u001b[0m     result\u001b[39m.\u001b[39mappend(\n\u001b[1;32m    155\u001b[0m         {\n\u001b[1;32m    156\u001b[0m             \u001b[39m\"\u001b[39m\u001b[39mencounter_a\u001b[39m\u001b[39m\"\u001b[39m: encounter_a\u001b[39m.\u001b[39mhadm_id,\n\u001b[0;32m   (...)\u001b[0m\n\u001b[1;32m    159\u001b[0m         }\n\u001b[1;32m    160\u001b[0m     )\n\u001b[1;32m    161\u001b[0m     result_cache[\n\u001b[1;32m    162\u001b[0m         \u001b[39mtuple\u001b[39m(\u001b[39msorted\u001b[39m([encounter_a\u001b[39m.\u001b[39mhadm_id, encounter_b\u001b[39m.\u001b[39mhadm_id]))\n\u001b[1;32m    163\u001b[0m     ] \u001b[39m=\u001b[39m similarity\n",
      "File \u001b[0;32m~/Git/simpa/src/cohorts.py:336\u001b[0m, in \u001b[0;36mEncounterComparator.compare\u001b[0;34m(self, encounter_a, encounter_b, demographics_weight, diagnoses_weight, labevents_weight, vitalsigns_weight, inputevents_weight, aggregate_method)\u001b[0m\n\u001b[1;32m    329\u001b[0m labevents_sim \u001b[39m=\u001b[39m \u001b[39mself\u001b[39m\u001b[39m.\u001b[39m_compare_labevents(\n\u001b[1;32m    330\u001b[0m     labevents_a\u001b[39m=\u001b[39mencounter_a\u001b[39m.\u001b[39mlabevents, labevents_b\u001b[39m=\u001b[39mencounter_b\u001b[39m.\u001b[39mlabevents\n\u001b[1;32m    331\u001b[0m )\n\u001b[1;32m    332\u001b[0m vitalsign_sim \u001b[39m=\u001b[39m \u001b[39mself\u001b[39m\u001b[39m.\u001b[39m_compare_vitalsigns(\n\u001b[1;32m    333\u001b[0m     vitalsigns_a\u001b[39m=\u001b[39mencounter_a\u001b[39m.\u001b[39mvitalsigns, vitalsigns_b\u001b[39m=\u001b[39mencounter_b\u001b[39m.\u001b[39mvitalsigns\n\u001b[1;32m    334\u001b[0m )\n\u001b[1;32m    335\u001b[0m inputevents_sim \u001b[39m=\u001b[39m \u001b[39mself\u001b[39m\u001b[39m.\u001b[39m_compare_inputevents(\n\u001b[0;32m--> 336\u001b[0m     inputevents_a\u001b[39m=\u001b[39mencounter_a\u001b[39m.\u001b[39;49minputevents, inputevents_b\u001b[39m=\u001b[39mencounter_b\u001b[39m.\u001b[39minputevents\n\u001b[1;32m    337\u001b[0m )\n\u001b[1;32m    339\u001b[0m \u001b[39m# print(f\"Demographics: {demographics_sim}\")\u001b[39;00m\n\u001b[1;32m    340\u001b[0m \u001b[39m# print(f\"Diagnoses: {diagnoses_sim}\")\u001b[39;00m\n\u001b[1;32m    341\u001b[0m \u001b[39m# print(f\"Labevents: {labevents_sim}\")\u001b[39;00m\n\u001b[1;32m    342\u001b[0m \u001b[39m# print(\"-----------------------------\\n\")\u001b[39;00m\n\u001b[1;32m    344\u001b[0m \u001b[39mif\u001b[39;00m aggregate_method \u001b[39mis\u001b[39;00m \u001b[39mNone\u001b[39;00m:\n",
      "\u001b[0;31mAttributeError\u001b[0m: 'SimilarityEncounter' object has no attribute 'inputevents'"
     ]
    }
   ],
   "source": [
    "r = cohort.compare_encounters(\n",
    "    demographics_weight=0.0,\n",
    "    diagnoses_weight=0.0,\n",
    "    labevents_weight=0.0,\n",
    "    vitalsigns_weight=1.0,\n",
    "    normalize_categories=True,\n",
    "    aggregate_method=\"mean\",\n",
    ")\n"
   ]
  },
  {
   "cell_type": "code",
   "execution_count": null,
   "metadata": {},
   "outputs": [
    {
     "data": {
      "text/plain": [
       "[{'encounter_a': 26184834, 'encounter_b': 26184834, 'similarity': 1},\n",
       " {'encounter_a': 26184834,\n",
       "  'encounter_b': 23581541,\n",
       "  'similarity': 0.12453258195294159},\n",
       " {'encounter_a': 26184834, 'encounter_b': 20345487, 'similarity': 0.0},\n",
       " {'encounter_a': 26184834,\n",
       "  'encounter_b': 23822395,\n",
       "  'similarity': 0.10710376536344839},\n",
       " {'encounter_a': 26184834,\n",
       "  'encounter_b': 28994087,\n",
       "  'similarity': 0.08646040939623137},\n",
       " {'encounter_a': 26184834,\n",
       "  'encounter_b': 22725460,\n",
       "  'similarity': 0.4044528313700311},\n",
       " {'encounter_a': 26184834,\n",
       "  'encounter_b': 20321825,\n",
       "  'similarity': 0.04605204817710646},\n",
       " {'encounter_a': 26184834,\n",
       "  'encounter_b': 23473524,\n",
       "  'similarity': 0.1844206998392697},\n",
       " {'encounter_a': 26184834,\n",
       "  'encounter_b': 28662225,\n",
       "  'similarity': 0.0293134884377474},\n",
       " {'encounter_a': 26184834,\n",
       "  'encounter_b': 21329021,\n",
       "  'similarity': 0.3928575322517253},\n",
       " {'encounter_a': 23581541,\n",
       "  'encounter_b': 26184834,\n",
       "  'similarity': 0.12453258195294159},\n",
       " {'encounter_a': 23581541, 'encounter_b': 23581541, 'similarity': 1},\n",
       " {'encounter_a': 23581541,\n",
       "  'encounter_b': 20345487,\n",
       "  'similarity': 0.38654795138537906},\n",
       " {'encounter_a': 23581541,\n",
       "  'encounter_b': 23822395,\n",
       "  'similarity': 0.403531342803159},\n",
       " {'encounter_a': 23581541,\n",
       "  'encounter_b': 28994087,\n",
       "  'similarity': 0.36250068662059526},\n",
       " {'encounter_a': 23581541,\n",
       "  'encounter_b': 22725460,\n",
       "  'similarity': 0.14614715787238894},\n",
       " {'encounter_a': 23581541,\n",
       "  'encounter_b': 20321825,\n",
       "  'similarity': 0.3439742424953955},\n",
       " {'encounter_a': 23581541,\n",
       "  'encounter_b': 23473524,\n",
       "  'similarity': 0.3724950702154428},\n",
       " {'encounter_a': 23581541,\n",
       "  'encounter_b': 28662225,\n",
       "  'similarity': 0.4109215345905083},\n",
       " {'encounter_a': 23581541,\n",
       "  'encounter_b': 21329021,\n",
       "  'similarity': 0.18414356691573125},\n",
       " {'encounter_a': 20345487, 'encounter_b': 26184834, 'similarity': 0.0},\n",
       " {'encounter_a': 20345487,\n",
       "  'encounter_b': 23581541,\n",
       "  'similarity': 0.38654795138537906},\n",
       " {'encounter_a': 20345487, 'encounter_b': 20345487, 'similarity': 1},\n",
       " {'encounter_a': 20345487,\n",
       "  'encounter_b': 23822395,\n",
       "  'similarity': 0.4974682242704608},\n",
       " {'encounter_a': 20345487,\n",
       "  'encounter_b': 28994087,\n",
       "  'similarity': 0.48819937158100973},\n",
       " {'encounter_a': 20345487,\n",
       "  'encounter_b': 22725460,\n",
       "  'similarity': 0.11019308807787717},\n",
       " {'encounter_a': 20345487,\n",
       "  'encounter_b': 20321825,\n",
       "  'similarity': 0.7774808488714513},\n",
       " {'encounter_a': 20345487,\n",
       "  'encounter_b': 23473524,\n",
       "  'similarity': 0.25666405321158703},\n",
       " {'encounter_a': 20345487,\n",
       "  'encounter_b': 28662225,\n",
       "  'similarity': 0.6039093412216968},\n",
       " {'encounter_a': 20345487,\n",
       "  'encounter_b': 21329021,\n",
       "  'similarity': 0.29048372675492246},\n",
       " {'encounter_a': 23822395,\n",
       "  'encounter_b': 26184834,\n",
       "  'similarity': 0.10710376536344839},\n",
       " {'encounter_a': 23822395,\n",
       "  'encounter_b': 23581541,\n",
       "  'similarity': 0.403531342803159},\n",
       " {'encounter_a': 23822395,\n",
       "  'encounter_b': 20345487,\n",
       "  'similarity': 0.4974682242704608},\n",
       " {'encounter_a': 23822395, 'encounter_b': 23822395, 'similarity': 1},\n",
       " {'encounter_a': 23822395, 'encounter_b': 28994087, 'similarity': 1.0},\n",
       " {'encounter_a': 23822395,\n",
       "  'encounter_b': 22725460,\n",
       "  'similarity': 0.4751891315062899},\n",
       " {'encounter_a': 23822395,\n",
       "  'encounter_b': 20321825,\n",
       "  'similarity': 0.6247198935115716},\n",
       " {'encounter_a': 23822395,\n",
       "  'encounter_b': 23473524,\n",
       "  'similarity': 0.400748658033844},\n",
       " {'encounter_a': 23822395,\n",
       "  'encounter_b': 28662225,\n",
       "  'similarity': 0.5384565427094239},\n",
       " {'encounter_a': 23822395,\n",
       "  'encounter_b': 21329021,\n",
       "  'similarity': 0.37320404032929727},\n",
       " {'encounter_a': 28994087,\n",
       "  'encounter_b': 26184834,\n",
       "  'similarity': 0.08646040939623137},\n",
       " {'encounter_a': 28994087,\n",
       "  'encounter_b': 23581541,\n",
       "  'similarity': 0.36250068662059526},\n",
       " {'encounter_a': 28994087,\n",
       "  'encounter_b': 20345487,\n",
       "  'similarity': 0.48819937158100973},\n",
       " {'encounter_a': 28994087, 'encounter_b': 23822395, 'similarity': 1.0},\n",
       " {'encounter_a': 28994087, 'encounter_b': 28994087, 'similarity': 1},\n",
       " {'encounter_a': 28994087,\n",
       "  'encounter_b': 22725460,\n",
       "  'similarity': 0.5329012871067705},\n",
       " {'encounter_a': 28994087,\n",
       "  'encounter_b': 20321825,\n",
       "  'similarity': 0.5860999277341761},\n",
       " {'encounter_a': 28994087,\n",
       "  'encounter_b': 23473524,\n",
       "  'similarity': 0.4346722868406695},\n",
       " {'encounter_a': 28994087,\n",
       "  'encounter_b': 28662225,\n",
       "  'similarity': 0.547204920199301},\n",
       " {'encounter_a': 28994087,\n",
       "  'encounter_b': 21329021,\n",
       "  'similarity': 0.19256806449579802},\n",
       " {'encounter_a': 22725460,\n",
       "  'encounter_b': 26184834,\n",
       "  'similarity': 0.4044528313700311},\n",
       " {'encounter_a': 22725460,\n",
       "  'encounter_b': 23581541,\n",
       "  'similarity': 0.14614715787238894},\n",
       " {'encounter_a': 22725460,\n",
       "  'encounter_b': 20345487,\n",
       "  'similarity': 0.11019308807787717},\n",
       " {'encounter_a': 22725460,\n",
       "  'encounter_b': 23822395,\n",
       "  'similarity': 0.4751891315062899},\n",
       " {'encounter_a': 22725460,\n",
       "  'encounter_b': 28994087,\n",
       "  'similarity': 0.5329012871067705},\n",
       " {'encounter_a': 22725460, 'encounter_b': 22725460, 'similarity': 1},\n",
       " {'encounter_a': 22725460,\n",
       "  'encounter_b': 20321825,\n",
       "  'similarity': 0.08693752700185063},\n",
       " {'encounter_a': 22725460,\n",
       "  'encounter_b': 23473524,\n",
       "  'similarity': 0.11528626444675559},\n",
       " {'encounter_a': 22725460,\n",
       "  'encounter_b': 28662225,\n",
       "  'similarity': 0.10172182113328528},\n",
       " {'encounter_a': 22725460,\n",
       "  'encounter_b': 21329021,\n",
       "  'similarity': 0.3679921245766342},\n",
       " {'encounter_a': 20321825,\n",
       "  'encounter_b': 26184834,\n",
       "  'similarity': 0.04605204817710646},\n",
       " {'encounter_a': 20321825,\n",
       "  'encounter_b': 23581541,\n",
       "  'similarity': 0.3439742424953955},\n",
       " {'encounter_a': 20321825,\n",
       "  'encounter_b': 20345487,\n",
       "  'similarity': 0.7774808488714513},\n",
       " {'encounter_a': 20321825,\n",
       "  'encounter_b': 23822395,\n",
       "  'similarity': 0.6247198935115716},\n",
       " {'encounter_a': 20321825,\n",
       "  'encounter_b': 28994087,\n",
       "  'similarity': 0.5860999277341761},\n",
       " {'encounter_a': 20321825,\n",
       "  'encounter_b': 22725460,\n",
       "  'similarity': 0.08693752700185063},\n",
       " {'encounter_a': 20321825, 'encounter_b': 20321825, 'similarity': 1},\n",
       " {'encounter_a': 20321825,\n",
       "  'encounter_b': 23473524,\n",
       "  'similarity': 0.4806052638830469},\n",
       " {'encounter_a': 20321825,\n",
       "  'encounter_b': 28662225,\n",
       "  'similarity': 0.8764991519447692},\n",
       " {'encounter_a': 20321825,\n",
       "  'encounter_b': 21329021,\n",
       "  'similarity': 0.2174695890105752},\n",
       " {'encounter_a': 23473524,\n",
       "  'encounter_b': 26184834,\n",
       "  'similarity': 0.1844206998392697},\n",
       " {'encounter_a': 23473524,\n",
       "  'encounter_b': 23581541,\n",
       "  'similarity': 0.3724950702154428},\n",
       " {'encounter_a': 23473524,\n",
       "  'encounter_b': 20345487,\n",
       "  'similarity': 0.25666405321158703},\n",
       " {'encounter_a': 23473524,\n",
       "  'encounter_b': 23822395,\n",
       "  'similarity': 0.400748658033844},\n",
       " {'encounter_a': 23473524,\n",
       "  'encounter_b': 28994087,\n",
       "  'similarity': 0.4346722868406695},\n",
       " {'encounter_a': 23473524,\n",
       "  'encounter_b': 22725460,\n",
       "  'similarity': 0.11528626444675559},\n",
       " {'encounter_a': 23473524,\n",
       "  'encounter_b': 20321825,\n",
       "  'similarity': 0.4806052638830469},\n",
       " {'encounter_a': 23473524, 'encounter_b': 23473524, 'similarity': 1},\n",
       " {'encounter_a': 23473524,\n",
       "  'encounter_b': 28662225,\n",
       "  'similarity': 0.5326449108012816},\n",
       " {'encounter_a': 23473524,\n",
       "  'encounter_b': 21329021,\n",
       "  'similarity': 0.02310481989551721},\n",
       " {'encounter_a': 28662225,\n",
       "  'encounter_b': 26184834,\n",
       "  'similarity': 0.0293134884377474},\n",
       " {'encounter_a': 28662225,\n",
       "  'encounter_b': 23581541,\n",
       "  'similarity': 0.4109215345905083},\n",
       " {'encounter_a': 28662225,\n",
       "  'encounter_b': 20345487,\n",
       "  'similarity': 0.6039093412216968},\n",
       " {'encounter_a': 28662225,\n",
       "  'encounter_b': 23822395,\n",
       "  'similarity': 0.5384565427094239},\n",
       " {'encounter_a': 28662225,\n",
       "  'encounter_b': 28994087,\n",
       "  'similarity': 0.547204920199301},\n",
       " {'encounter_a': 28662225,\n",
       "  'encounter_b': 22725460,\n",
       "  'similarity': 0.10172182113328528},\n",
       " {'encounter_a': 28662225,\n",
       "  'encounter_b': 20321825,\n",
       "  'similarity': 0.8764991519447692},\n",
       " {'encounter_a': 28662225,\n",
       "  'encounter_b': 23473524,\n",
       "  'similarity': 0.5326449108012816},\n",
       " {'encounter_a': 28662225, 'encounter_b': 28662225, 'similarity': 1},\n",
       " {'encounter_a': 28662225,\n",
       "  'encounter_b': 21329021,\n",
       "  'similarity': 0.13405289446705843},\n",
       " {'encounter_a': 21329021,\n",
       "  'encounter_b': 26184834,\n",
       "  'similarity': 0.3928575322517253},\n",
       " {'encounter_a': 21329021,\n",
       "  'encounter_b': 23581541,\n",
       "  'similarity': 0.18414356691573125},\n",
       " {'encounter_a': 21329021,\n",
       "  'encounter_b': 20345487,\n",
       "  'similarity': 0.29048372675492246},\n",
       " {'encounter_a': 21329021,\n",
       "  'encounter_b': 23822395,\n",
       "  'similarity': 0.37320404032929727},\n",
       " {'encounter_a': 21329021,\n",
       "  'encounter_b': 28994087,\n",
       "  'similarity': 0.19256806449579802},\n",
       " {'encounter_a': 21329021,\n",
       "  'encounter_b': 22725460,\n",
       "  'similarity': 0.3679921245766342},\n",
       " {'encounter_a': 21329021,\n",
       "  'encounter_b': 20321825,\n",
       "  'similarity': 0.2174695890105752},\n",
       " {'encounter_a': 21329021,\n",
       "  'encounter_b': 23473524,\n",
       "  'similarity': 0.02310481989551721},\n",
       " {'encounter_a': 21329021,\n",
       "  'encounter_b': 28662225,\n",
       "  'similarity': 0.13405289446705843},\n",
       " {'encounter_a': 21329021, 'encounter_b': 21329021, 'similarity': 1}]"
      ]
     },
     "execution_count": 52,
     "metadata": {},
     "output_type": "execute_result"
    }
   ],
   "source": [
    "r"
   ]
  },
  {
   "cell_type": "code",
   "execution_count": null,
   "metadata": {},
   "outputs": [
    {
     "data": {
      "text/plain": [
       "[Vitalsign(subject_id=10001884, hadm_id=26184834, name='heart_rate', value=70.8),\n",
       " Vitalsign(subject_id=10001884, hadm_id=26184834, name='sbp_ni', value=129.1764705882353),\n",
       " Vitalsign(subject_id=10001884, hadm_id=26184834, name='dbp_ni', value=74.66968325791855),\n",
       " Vitalsign(subject_id=10001884, hadm_id=26184834, name='mbp_ni', value=90.52941176470588),\n",
       " Vitalsign(subject_id=10001884, hadm_id=26184834, name='resp_rate', value=19.0),\n",
       " Vitalsign(subject_id=10001884, hadm_id=26184834, name='temperature', value=37.01076923076923),\n",
       " Vitalsign(subject_id=10001884, hadm_id=26184834, name='spo2', value=97.64864864864865),\n",
       " Vitalsign(subject_id=10001884, hadm_id=26184834, name='glucose', value=149.33333333333334)]"
      ]
     },
     "execution_count": 16,
     "metadata": {},
     "output_type": "execute_result"
    }
   ],
   "source": [
    "cohort.similarity_encounters[0].vitalsigns"
   ]
  },
  {
   "cell_type": "code",
   "execution_count": null,
   "metadata": {},
   "outputs": [
    {
     "data": {
      "text/plain": [
       "[Vitalsign(subject_id=10002013, hadm_id=23581541, name='heart_rate', value=94.21428571428571),\n",
       " Vitalsign(subject_id=10002013, hadm_id=23581541, name='sbp_ni', value=110.5),\n",
       " Vitalsign(subject_id=10002013, hadm_id=23581541, name='dbp_ni', value=64.5),\n",
       " Vitalsign(subject_id=10002013, hadm_id=23581541, name='mbp_ni', value=75.4),\n",
       " Vitalsign(subject_id=10002013, hadm_id=23581541, name='resp_rate', value=15.178571428571429),\n",
       " Vitalsign(subject_id=10002013, hadm_id=23581541, name='temperature', value=37.20444444444444),\n",
       " Vitalsign(subject_id=10002013, hadm_id=23581541, name='spo2', value=96.73076923076923),\n",
       " Vitalsign(subject_id=10002013, hadm_id=23581541, name='glucose', value=149.4090909090909)]"
      ]
     },
     "execution_count": 17,
     "metadata": {},
     "output_type": "execute_result"
    }
   ],
   "source": [
    "cohort.similarity_encounters[1].vitalsigns"
   ]
  },
  {
   "cell_type": "code",
   "execution_count": null,
   "metadata": {},
   "outputs": [
    {
     "data": {
      "text/plain": [
       "0.6435590079267861"
      ]
     },
     "execution_count": 29,
     "metadata": {},
     "output_type": "execute_result"
    }
   ],
   "source": [
    "from vitalsigns import VitalsignComparator\n",
    "\n",
    "vs_comp = VitalsignComparator(db=db)\n",
    "vs_comp.compare(\n",
    "    cohort.similarity_encounters[0].vitalsigns,\n",
    "    cohort.similarity_encounters[1].vitalsigns,\n",
    "    scale_by_distribution=False,\n",
    ")\n"
   ]
  },
  {
   "cell_type": "code",
   "execution_count": null,
   "metadata": {},
   "outputs": [],
   "source": [
    "comp = EncounterComparator(db=db)\n"
   ]
  },
  {
   "cell_type": "code",
   "execution_count": null,
   "metadata": {},
   "outputs": [
    {
     "name": "stdout",
     "output_type": "stream",
     "text": [
      "Demographics: 0.8897058823529411\n",
      "Diagnoses: 0.6028334104840426\n",
      "Labevents: 0.14765435167735297\n"
     ]
    },
    {
     "data": {
      "text/plain": [
       "0.19317225755802195"
      ]
     },
     "execution_count": 43,
     "metadata": {},
     "output_type": "execute_result"
    }
   ],
   "source": [
    "comp.compare(cohort.similarity_encounters[0], cohort.similarity_encounters[1], demographics_weight=0.0, labevents_weight=0.9, diagnoses_weight=0.1, aggregate_method=\"mean\")"
   ]
  },
  {
   "cell_type": "markdown",
   "metadata": {},
   "source": []
  }
 ],
 "metadata": {
  "kernelspec": {
   "display_name": "venv",
   "language": "python",
   "name": "python3"
  },
  "language_info": {
   "codemirror_mode": {
    "name": "ipython",
    "version": 3
   },
   "file_extension": ".py",
   "mimetype": "text/x-python",
   "name": "python",
   "nbconvert_exporter": "python",
   "pygments_lexer": "ipython3",
   "version": "3.9.6"
  },
  "orig_nbformat": 4
 },
 "nbformat": 4,
 "nbformat_minor": 2
}
