{
 "cells": [
  {
   "cell_type": "code",
   "execution_count": 16,
   "metadata": {},
   "outputs": [
    {
     "name": "stdout",
     "output_type": "stream",
     "text": [
      "The autoreload extension is already loaded. To reload it, use:\n",
      "  %reload_ext autoreload\n"
     ]
    }
   ],
   "source": [
    "%load_ext autoreload\n",
    "%autoreload 2"
   ]
  },
  {
   "cell_type": "code",
   "execution_count": 17,
   "metadata": {},
   "outputs": [],
   "source": [
    "import os\n",
    "import sys\n",
    "\n",
    "sys.path.insert(0, os.path.abspath(\"..\"))\n",
    "from dotenv import load_dotenv\n",
    "import seaborn as sns\n",
    "import pandas as pd\n",
    "import numpy as np\n",
    "\n",
    "from db import PostgresDB\n",
    "from schemas import Proband\n",
    "from cohorts import Cohort, EncounterComparator"
   ]
  },
  {
   "cell_type": "code",
   "execution_count": 18,
   "metadata": {},
   "outputs": [
    {
     "data": {
      "text/plain": [
       "True"
      ]
     },
     "execution_count": 18,
     "metadata": {},
     "output_type": "execute_result"
    }
   ],
   "source": [
    "load_dotenv()"
   ]
  },
  {
   "cell_type": "code",
   "execution_count": 19,
   "metadata": {},
   "outputs": [
    {
     "name": "stdout",
     "output_type": "stream",
     "text": [
      "Connected to database\n"
     ]
    }
   ],
   "source": [
    "db = PostgresDB(\n",
    "    db_name=os.getenv(\"DB_NAME\"),\n",
    "    host=os.getenv(\"DB_HOST\"),\n",
    "    port=os.getenv(\"DB_PORT\"),\n",
    "    user=os.getenv(\"DB_USER\"),\n",
    ")\n"
   ]
  },
  {
   "cell_type": "code",
   "execution_count": 20,
   "metadata": {},
   "outputs": [],
   "source": [
    "cohort = Cohort(db=db)"
   ]
  },
  {
   "cell_type": "code",
   "execution_count": 21,
   "metadata": {},
   "outputs": [],
   "source": [
    "cohort.get_sepsis_cohort(size=10)"
   ]
  },
  {
   "cell_type": "code",
   "execution_count": 22,
   "metadata": {},
   "outputs": [],
   "source": [
    "cohort.initialize_data()"
   ]
  },
  {
   "cell_type": "code",
   "execution_count": 23,
   "metadata": {},
   "outputs": [
    {
     "name": "stdout",
     "output_type": "stream",
     "text": [
      "Finished encounter 26184834\n",
      "Finished encounter 23581541\n",
      "Finished encounter 20345487\n",
      "Finished encounter 23822395\n",
      "Finished encounter 28994087\n",
      "Finished encounter 22725460\n",
      "Finished encounter 20321825\n",
      "Finished encounter 23473524\n",
      "Finished encounter 28662225\n",
      "Finished encounter 21329021\n",
      "Normalizing categories by scaling to range 0..1\n"
     ]
    }
   ],
   "source": [
    "r = cohort.compare_encounters(\n",
    "    demographics_weight=0.0,\n",
    "    diagnoses_weight=0.0,\n",
    "    labevents_weight=0.0,\n",
    "    vitalsigns_weight=0.0,\n",
    "    inputevents_weight=1.0,\n",
    "    normalize_categories=True,\n",
    "    aggregate_method=\"mean\",\n",
    ")\n"
   ]
  },
  {
   "cell_type": "code",
   "execution_count": 24,
   "metadata": {},
   "outputs": [
    {
     "data": {
      "text/plain": [
       "[{'encounter_a': 26184834, 'encounter_b': 26184834, 'similarity': 1},\n",
       " {'encounter_a': 26184834,\n",
       "  'encounter_b': 23581541,\n",
       "  'similarity': 0.19130434782608696},\n",
       " {'encounter_a': 26184834,\n",
       "  'encounter_b': 20345487,\n",
       "  'similarity': 0.29399585921325055},\n",
       " {'encounter_a': 26184834,\n",
       "  'encounter_b': 23822395,\n",
       "  'similarity': 0.2864450127877239},\n",
       " {'encounter_a': 26184834, 'encounter_b': 28994087, 'similarity': 0.0},\n",
       " {'encounter_a': 26184834,\n",
       "  'encounter_b': 22725460,\n",
       "  'similarity': 0.21376811594202902},\n",
       " {'encounter_a': 26184834,\n",
       "  'encounter_b': 20321825,\n",
       "  'similarity': 0.43840579710144933},\n",
       " {'encounter_a': 26184834,\n",
       "  'encounter_b': 23473524,\n",
       "  'similarity': 0.469038208168643},\n",
       " {'encounter_a': 26184834,\n",
       "  'encounter_b': 28662225,\n",
       "  'similarity': 0.5683432793407218},\n",
       " {'encounter_a': 26184834,\n",
       "  'encounter_b': 21329021,\n",
       "  'similarity': 0.07502131287297528},\n",
       " {'encounter_a': 23581541,\n",
       "  'encounter_b': 26184834,\n",
       "  'similarity': 0.19130434782608696},\n",
       " {'encounter_a': 23581541, 'encounter_b': 23581541, 'similarity': 1},\n",
       " {'encounter_a': 23581541,\n",
       "  'encounter_b': 20345487,\n",
       "  'similarity': 0.10144927536231886},\n",
       " {'encounter_a': 23581541,\n",
       "  'encounter_b': 23822395,\n",
       "  'similarity': 0.2718640679660171},\n",
       " {'encounter_a': 23581541,\n",
       "  'encounter_b': 28994087,\n",
       "  'similarity': 0.08347826086956522},\n",
       " {'encounter_a': 23581541,\n",
       "  'encounter_b': 22725460,\n",
       "  'similarity': 0.7004830917874397},\n",
       " {'encounter_a': 23581541,\n",
       "  'encounter_b': 20321825,\n",
       "  'similarity': 0.14792603698150927},\n",
       " {'encounter_a': 23581541,\n",
       "  'encounter_b': 23473524,\n",
       "  'similarity': 0.37101449275362325},\n",
       " {'encounter_a': 23581541,\n",
       "  'encounter_b': 28662225,\n",
       "  'similarity': 0.4009661835748793},\n",
       " {'encounter_a': 23581541,\n",
       "  'encounter_b': 21329021,\n",
       "  'similarity': 0.6585507246376813},\n",
       " {'encounter_a': 20345487,\n",
       "  'encounter_b': 26184834,\n",
       "  'similarity': 0.29399585921325055},\n",
       " {'encounter_a': 20345487,\n",
       "  'encounter_b': 23581541,\n",
       "  'similarity': 0.10144927536231886},\n",
       " {'encounter_a': 20345487, 'encounter_b': 20345487, 'similarity': 1},\n",
       " {'encounter_a': 20345487,\n",
       "  'encounter_b': 23822395,\n",
       "  'similarity': 0.25120772946859904},\n",
       " {'encounter_a': 20345487,\n",
       "  'encounter_b': 28994087,\n",
       "  'similarity': 0.9591567852437418},\n",
       " {'encounter_a': 20345487,\n",
       "  'encounter_b': 22725460,\n",
       "  'similarity': 0.10144927536231886},\n",
       " {'encounter_a': 20345487,\n",
       "  'encounter_b': 20321825,\n",
       "  'similarity': 0.051529790660225436},\n",
       " {'encounter_a': 20345487,\n",
       "  'encounter_b': 23473524,\n",
       "  'similarity': 0.25120772946859904},\n",
       " {'encounter_a': 20345487,\n",
       "  'encounter_b': 28662225,\n",
       "  'similarity': 0.002827854365500199},\n",
       " {'encounter_a': 20345487,\n",
       "  'encounter_b': 21329021,\n",
       "  'similarity': 0.3260869565217392},\n",
       " {'encounter_a': 23822395,\n",
       "  'encounter_b': 26184834,\n",
       "  'similarity': 0.2864450127877239},\n",
       " {'encounter_a': 23822395,\n",
       "  'encounter_b': 23581541,\n",
       "  'similarity': 0.2718640679660171},\n",
       " {'encounter_a': 23822395,\n",
       "  'encounter_b': 20345487,\n",
       "  'similarity': 0.25120772946859904},\n",
       " {'encounter_a': 23822395, 'encounter_b': 23822395, 'similarity': 1},\n",
       " {'encounter_a': 23822395, 'encounter_b': 28994087, 'similarity': 1.0},\n",
       " {'encounter_a': 23822395,\n",
       "  'encounter_b': 22725460,\n",
       "  'similarity': 0.336783988957902},\n",
       " {'encounter_a': 23822395,\n",
       "  'encounter_b': 20321825,\n",
       "  'similarity': 0.2772526780088217},\n",
       " {'encounter_a': 23822395,\n",
       "  'encounter_b': 23473524,\n",
       "  'similarity': 0.37101449275362325},\n",
       " {'encounter_a': 23822395,\n",
       "  'encounter_b': 28662225,\n",
       "  'similarity': 0.30566534914361004},\n",
       " {'encounter_a': 23822395,\n",
       "  'encounter_b': 21329021,\n",
       "  'similarity': 0.30566534914361004},\n",
       " {'encounter_a': 28994087, 'encounter_b': 26184834, 'similarity': 0.0},\n",
       " {'encounter_a': 28994087,\n",
       "  'encounter_b': 23581541,\n",
       "  'similarity': 0.08347826086956522},\n",
       " {'encounter_a': 28994087,\n",
       "  'encounter_b': 20345487,\n",
       "  'similarity': 0.9591567852437418},\n",
       " {'encounter_a': 28994087, 'encounter_b': 23822395, 'similarity': 1.0},\n",
       " {'encounter_a': 28994087, 'encounter_b': 28994087, 'similarity': 1},\n",
       " {'encounter_a': 28994087,\n",
       "  'encounter_b': 22725460,\n",
       "  'similarity': 0.3260869565217392},\n",
       " {'encounter_a': 28994087,\n",
       "  'encounter_b': 20321825,\n",
       "  'similarity': 0.49786871270247235},\n",
       " {'encounter_a': 28994087,\n",
       "  'encounter_b': 23473524,\n",
       "  'similarity': 0.37101449275362325},\n",
       " {'encounter_a': 28994087,\n",
       "  'encounter_b': 28662225,\n",
       "  'similarity': 0.19130434782608696},\n",
       " {'encounter_a': 28994087,\n",
       "  'encounter_b': 21329021,\n",
       "  'similarity': 0.2864450127877239},\n",
       " {'encounter_a': 22725460,\n",
       "  'encounter_b': 26184834,\n",
       "  'similarity': 0.21376811594202902},\n",
       " {'encounter_a': 22725460,\n",
       "  'encounter_b': 23581541,\n",
       "  'similarity': 0.7004830917874397},\n",
       " {'encounter_a': 22725460,\n",
       "  'encounter_b': 20345487,\n",
       "  'similarity': 0.10144927536231886},\n",
       " {'encounter_a': 22725460,\n",
       "  'encounter_b': 23822395,\n",
       "  'similarity': 0.336783988957902},\n",
       " {'encounter_a': 22725460,\n",
       "  'encounter_b': 28994087,\n",
       "  'similarity': 0.3260869565217392},\n",
       " {'encounter_a': 22725460, 'encounter_b': 22725460, 'similarity': 1},\n",
       " {'encounter_a': 22725460,\n",
       "  'encounter_b': 20321825,\n",
       "  'similarity': 0.5980167810831426},\n",
       " {'encounter_a': 22725460,\n",
       "  'encounter_b': 23473524,\n",
       "  'similarity': 0.43840579710144933},\n",
       " {'encounter_a': 22725460,\n",
       "  'encounter_b': 28662225,\n",
       "  'similarity': 0.35348179568752214},\n",
       " {'encounter_a': 22725460,\n",
       "  'encounter_b': 21329021,\n",
       "  'similarity': 0.6505636070853463},\n",
       " {'encounter_a': 20321825,\n",
       "  'encounter_b': 26184834,\n",
       "  'similarity': 0.43840579710144933},\n",
       " {'encounter_a': 20321825,\n",
       "  'encounter_b': 23581541,\n",
       "  'similarity': 0.14792603698150927},\n",
       " {'encounter_a': 20321825,\n",
       "  'encounter_b': 20345487,\n",
       "  'similarity': 0.051529790660225436},\n",
       " {'encounter_a': 20321825,\n",
       "  'encounter_b': 23822395,\n",
       "  'similarity': 0.2772526780088217},\n",
       " {'encounter_a': 20321825,\n",
       "  'encounter_b': 28994087,\n",
       "  'similarity': 0.49786871270247235},\n",
       " {'encounter_a': 20321825,\n",
       "  'encounter_b': 22725460,\n",
       "  'similarity': 0.5980167810831426},\n",
       " {'encounter_a': 20321825, 'encounter_b': 20321825, 'similarity': 1},\n",
       " {'encounter_a': 20321825,\n",
       "  'encounter_b': 23473524,\n",
       "  'similarity': 0.9700483091787441},\n",
       " {'encounter_a': 20321825,\n",
       "  'encounter_b': 28662225,\n",
       "  'similarity': 0.7580824972129321},\n",
       " {'encounter_a': 20321825,\n",
       "  'encounter_b': 21329021,\n",
       "  'similarity': 0.14229249011857706},\n",
       " {'encounter_a': 23473524,\n",
       "  'encounter_b': 26184834,\n",
       "  'similarity': 0.469038208168643},\n",
       " {'encounter_a': 23473524,\n",
       "  'encounter_b': 23581541,\n",
       "  'similarity': 0.37101449275362325},\n",
       " {'encounter_a': 23473524,\n",
       "  'encounter_b': 20345487,\n",
       "  'similarity': 0.25120772946859904},\n",
       " {'encounter_a': 23473524,\n",
       "  'encounter_b': 23822395,\n",
       "  'similarity': 0.37101449275362325},\n",
       " {'encounter_a': 23473524,\n",
       "  'encounter_b': 28994087,\n",
       "  'similarity': 0.37101449275362325},\n",
       " {'encounter_a': 23473524,\n",
       "  'encounter_b': 22725460,\n",
       "  'similarity': 0.43840579710144933},\n",
       " {'encounter_a': 23473524,\n",
       "  'encounter_b': 20321825,\n",
       "  'similarity': 0.9700483091787441},\n",
       " {'encounter_a': 23473524, 'encounter_b': 23473524, 'similarity': 1},\n",
       " {'encounter_a': 23473524,\n",
       "  'encounter_b': 28662225,\n",
       "  'similarity': 0.8991422656018931},\n",
       " {'encounter_a': 23473524,\n",
       "  'encounter_b': 21329021,\n",
       "  'similarity': 0.41458058849363205},\n",
       " {'encounter_a': 28662225,\n",
       "  'encounter_b': 26184834,\n",
       "  'similarity': 0.5683432793407218},\n",
       " {'encounter_a': 28662225,\n",
       "  'encounter_b': 23581541,\n",
       "  'similarity': 0.4009661835748793},\n",
       " {'encounter_a': 28662225,\n",
       "  'encounter_b': 20345487,\n",
       "  'similarity': 0.002827854365500199},\n",
       " {'encounter_a': 28662225,\n",
       "  'encounter_b': 23822395,\n",
       "  'similarity': 0.30566534914361004},\n",
       " {'encounter_a': 28662225,\n",
       "  'encounter_b': 28994087,\n",
       "  'similarity': 0.19130434782608696},\n",
       " {'encounter_a': 28662225,\n",
       "  'encounter_b': 22725460,\n",
       "  'similarity': 0.35348179568752214},\n",
       " {'encounter_a': 28662225,\n",
       "  'encounter_b': 20321825,\n",
       "  'similarity': 0.7580824972129321},\n",
       " {'encounter_a': 28662225,\n",
       "  'encounter_b': 23473524,\n",
       "  'similarity': 0.8991422656018931},\n",
       " {'encounter_a': 28662225, 'encounter_b': 28662225, 'similarity': 1},\n",
       " {'encounter_a': 28662225,\n",
       "  'encounter_b': 21329021,\n",
       "  'similarity': 0.23727671048196838},\n",
       " {'encounter_a': 21329021,\n",
       "  'encounter_b': 26184834,\n",
       "  'similarity': 0.07502131287297528},\n",
       " {'encounter_a': 21329021,\n",
       "  'encounter_b': 23581541,\n",
       "  'similarity': 0.6585507246376813},\n",
       " {'encounter_a': 21329021,\n",
       "  'encounter_b': 20345487,\n",
       "  'similarity': 0.3260869565217392},\n",
       " {'encounter_a': 21329021,\n",
       "  'encounter_b': 23822395,\n",
       "  'similarity': 0.30566534914361004},\n",
       " {'encounter_a': 21329021,\n",
       "  'encounter_b': 28994087,\n",
       "  'similarity': 0.2864450127877239},\n",
       " {'encounter_a': 21329021,\n",
       "  'encounter_b': 22725460,\n",
       "  'similarity': 0.6505636070853463},\n",
       " {'encounter_a': 21329021,\n",
       "  'encounter_b': 20321825,\n",
       "  'similarity': 0.14229249011857706},\n",
       " {'encounter_a': 21329021,\n",
       "  'encounter_b': 23473524,\n",
       "  'similarity': 0.41458058849363205},\n",
       " {'encounter_a': 21329021,\n",
       "  'encounter_b': 28662225,\n",
       "  'similarity': 0.23727671048196838},\n",
       " {'encounter_a': 21329021, 'encounter_b': 21329021, 'similarity': 1}]"
      ]
     },
     "execution_count": 24,
     "metadata": {},
     "output_type": "execute_result"
    }
   ],
   "source": [
    "r"
   ]
  },
  {
   "cell_type": "code",
   "execution_count": 25,
   "metadata": {},
   "outputs": [
    {
     "data": {
      "text/plain": [
       "[Vitalsign(id='heart_rate', value=70.8, subject_id=10001884, hadm_id=26184834, name='heart_rate'),\n",
       " Vitalsign(id='sbp_ni', value=129.1764705882353, subject_id=10001884, hadm_id=26184834, name='sbp_ni'),\n",
       " Vitalsign(id='dbp_ni', value=74.66968325791855, subject_id=10001884, hadm_id=26184834, name='dbp_ni'),\n",
       " Vitalsign(id='mbp_ni', value=90.52941176470588, subject_id=10001884, hadm_id=26184834, name='mbp_ni'),\n",
       " Vitalsign(id='resp_rate', value=19.0, subject_id=10001884, hadm_id=26184834, name='resp_rate'),\n",
       " Vitalsign(id='temperature', value=37.01076923076923, subject_id=10001884, hadm_id=26184834, name='temperature'),\n",
       " Vitalsign(id='spo2', value=97.64864864864865, subject_id=10001884, hadm_id=26184834, name='spo2'),\n",
       " Vitalsign(id='glucose', value=149.33333333333334, subject_id=10001884, hadm_id=26184834, name='glucose')]"
      ]
     },
     "execution_count": 25,
     "metadata": {},
     "output_type": "execute_result"
    }
   ],
   "source": [
    "cohort.similarity_encounters[0].vitalsigns"
   ]
  },
  {
   "cell_type": "code",
   "execution_count": 26,
   "metadata": {},
   "outputs": [
    {
     "data": {
      "text/plain": [
       "[Vitalsign(id='heart_rate', value=94.21428571428571, subject_id=10002013, hadm_id=23581541, name='heart_rate'),\n",
       " Vitalsign(id='sbp_ni', value=110.5, subject_id=10002013, hadm_id=23581541, name='sbp_ni'),\n",
       " Vitalsign(id='dbp_ni', value=64.5, subject_id=10002013, hadm_id=23581541, name='dbp_ni'),\n",
       " Vitalsign(id='mbp_ni', value=75.4, subject_id=10002013, hadm_id=23581541, name='mbp_ni'),\n",
       " Vitalsign(id='resp_rate', value=15.178571428571429, subject_id=10002013, hadm_id=23581541, name='resp_rate'),\n",
       " Vitalsign(id='temperature', value=37.20444444444444, subject_id=10002013, hadm_id=23581541, name='temperature'),\n",
       " Vitalsign(id='spo2', value=96.73076923076923, subject_id=10002013, hadm_id=23581541, name='spo2'),\n",
       " Vitalsign(id='glucose', value=149.4090909090909, subject_id=10002013, hadm_id=23581541, name='glucose')]"
      ]
     },
     "execution_count": 26,
     "metadata": {},
     "output_type": "execute_result"
    }
   ],
   "source": [
    "cohort.similarity_encounters[1].vitalsigns"
   ]
  },
  {
   "cell_type": "code",
   "execution_count": 27,
   "metadata": {},
   "outputs": [
    {
     "data": {
      "text/plain": [
       "0.6435590079267861"
      ]
     },
     "execution_count": 27,
     "metadata": {},
     "output_type": "execute_result"
    }
   ],
   "source": [
    "from vitalsigns import VitalsignComparator\n",
    "\n",
    "vs_comp = VitalsignComparator(db=db)\n",
    "vs_comp.compare(\n",
    "    cohort.similarity_encounters[0].vitalsigns,\n",
    "    cohort.similarity_encounters[1].vitalsigns,\n",
    "    scale_by_distribution=False,\n",
    ")\n"
   ]
  },
  {
   "cell_type": "code",
   "execution_count": 28,
   "metadata": {},
   "outputs": [],
   "source": [
    "comp = EncounterComparator(db=db)\n"
   ]
  },
  {
   "cell_type": "code",
   "execution_count": 29,
   "metadata": {},
   "outputs": [
    {
     "data": {
      "text/plain": [
       "0.23337146705810025"
      ]
     },
     "execution_count": 29,
     "metadata": {},
     "output_type": "execute_result"
    }
   ],
   "source": [
    "comp.compare(cohort.similarity_encounters[0], cohort.similarity_encounters[1], demographics_weight=0.0, labevents_weight=0.9, diagnoses_weight=0.1, aggregate_method=\"mean\")"
   ]
  },
  {
   "cell_type": "markdown",
   "metadata": {},
   "source": []
  }
 ],
 "metadata": {
  "kernelspec": {
   "display_name": "venv",
   "language": "python",
   "name": "python3"
  },
  "language_info": {
   "codemirror_mode": {
    "name": "ipython",
    "version": 3
   },
   "file_extension": ".py",
   "mimetype": "text/x-python",
   "name": "python",
   "nbconvert_exporter": "python",
   "pygments_lexer": "ipython3",
   "version": "3.9.6"
  },
  "orig_nbformat": 4
 },
 "nbformat": 4,
 "nbformat_minor": 2
}
